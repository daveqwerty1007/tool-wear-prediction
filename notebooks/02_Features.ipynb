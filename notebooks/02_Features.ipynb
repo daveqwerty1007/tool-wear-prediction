{
  "cells": [
    {
      "cell_type": "markdown",
      "metadata": {},
      "source": [
        "# Feature Exploration & Prep\n",
        "A place to explore feature engineering ideas."
      ]
    },
    {
      "cell_type": "code",
      "execution_count": 2,
      "metadata": {},
      "outputs": [],
      "source": [
        "import sys\n",
        "import os\n",
        "sys.path.append(os.path.abspath(os.path.join(os.getcwd(), '..')))"
      ]
    },
    {
      "cell_type": "code",
      "execution_count": 3,
      "metadata": {},
      "outputs": [],
      "source": [
        "import pandas as pd\n",
        "from src.data_loader import load_vicomtech_data"
      ]
    },
    {
      "cell_type": "code",
      "execution_count": 4,
      "metadata": {},
      "outputs": [
        {
          "data": {
            "application/vnd.microsoft.datawrangler.viewer.v0+json": {
              "columns": [
                {
                  "name": "index",
                  "rawType": "int64",
                  "type": "integer"
                },
                {
                  "name": "AE_MAX",
                  "rawType": "float64",
                  "type": "float"
                },
                {
                  "name": "AE_KURT",
                  "rawType": "float64",
                  "type": "float"
                },
                {
                  "name": "AE_VAR",
                  "rawType": "float64",
                  "type": "float"
                },
                {
                  "name": "AE_RMS",
                  "rawType": "float64",
                  "type": "float"
                },
                {
                  "name": "AE_C_0.1",
                  "rawType": "int64",
                  "type": "integer"
                },
                {
                  "name": "AE_C_0.15",
                  "rawType": "int64",
                  "type": "integer"
                },
                {
                  "name": "AE_CF",
                  "rawType": "float64",
                  "type": "float"
                },
                {
                  "name": "Ax1_RMS",
                  "rawType": "float64",
                  "type": "float"
                },
                {
                  "name": "Ax1_SK",
                  "rawType": "float64",
                  "type": "float"
                },
                {
                  "name": "Ax1_MEAN",
                  "rawType": "float64",
                  "type": "float"
                },
                {
                  "name": "Ax1_MAX",
                  "rawType": "float64",
                  "type": "float"
                },
                {
                  "name": "Ax1_KURT",
                  "rawType": "float64",
                  "type": "float"
                },
                {
                  "name": "Ax2_RMS",
                  "rawType": "float64",
                  "type": "float"
                },
                {
                  "name": "Ax2_SK",
                  "rawType": "float64",
                  "type": "float"
                },
                {
                  "name": "Ax2_MEAN",
                  "rawType": "float64",
                  "type": "float"
                },
                {
                  "name": "Ax2_MAX",
                  "rawType": "float64",
                  "type": "float"
                },
                {
                  "name": "Ax2_KURT",
                  "rawType": "float64",
                  "type": "float"
                },
                {
                  "name": "Ay1_RMS",
                  "rawType": "float64",
                  "type": "float"
                },
                {
                  "name": "Ay1_SK",
                  "rawType": "float64",
                  "type": "float"
                },
                {
                  "name": "Ay1_MEAN",
                  "rawType": "float64",
                  "type": "float"
                },
                {
                  "name": "Ay1_MAX",
                  "rawType": "float64",
                  "type": "float"
                },
                {
                  "name": "Ay1_KURT",
                  "rawType": "float64",
                  "type": "float"
                },
                {
                  "name": "Ay2_RMS",
                  "rawType": "float64",
                  "type": "float"
                },
                {
                  "name": "Ay2_SK",
                  "rawType": "float64",
                  "type": "float"
                },
                {
                  "name": "Ay2_MEAN",
                  "rawType": "float64",
                  "type": "float"
                },
                {
                  "name": "Ay2_MAX",
                  "rawType": "float64",
                  "type": "float"
                },
                {
                  "name": "Ay2_KURT",
                  "rawType": "float64",
                  "type": "float"
                },
                {
                  "name": "Az1_RMS",
                  "rawType": "float64",
                  "type": "float"
                },
                {
                  "name": "Az1_SK",
                  "rawType": "float64",
                  "type": "float"
                },
                {
                  "name": "Az1_MEAN",
                  "rawType": "float64",
                  "type": "float"
                },
                {
                  "name": "Az1_MAX",
                  "rawType": "float64",
                  "type": "float"
                },
                {
                  "name": "Az1_KURT",
                  "rawType": "float64",
                  "type": "float"
                },
                {
                  "name": "Az2_RMS",
                  "rawType": "float64",
                  "type": "float"
                },
                {
                  "name": "Az2_SK",
                  "rawType": "float64",
                  "type": "float"
                },
                {
                  "name": "Az2_MEAN",
                  "rawType": "float64",
                  "type": "float"
                },
                {
                  "name": "Az2_MAX",
                  "rawType": "float64",
                  "type": "float"
                },
                {
                  "name": "Az2_KURT",
                  "rawType": "float64",
                  "type": "float"
                },
                {
                  "name": "F_p_RMS",
                  "rawType": "float64",
                  "type": "float"
                },
                {
                  "name": "F_p_SK",
                  "rawType": "float64",
                  "type": "float"
                },
                {
                  "name": "F_p_MEAN",
                  "rawType": "float64",
                  "type": "float"
                },
                {
                  "name": "F_p_MAX",
                  "rawType": "float64",
                  "type": "float"
                },
                {
                  "name": "F_p_KURT",
                  "rawType": "float64",
                  "type": "float"
                },
                {
                  "name": "F_f_RMS",
                  "rawType": "float64",
                  "type": "float"
                },
                {
                  "name": "F_f_SK",
                  "rawType": "float64",
                  "type": "float"
                },
                {
                  "name": "F_f_MEAN",
                  "rawType": "float64",
                  "type": "float"
                },
                {
                  "name": "F_f_MAX",
                  "rawType": "float64",
                  "type": "float"
                },
                {
                  "name": "F_f_KURT",
                  "rawType": "float64",
                  "type": "float"
                },
                {
                  "name": "F_c_RMS",
                  "rawType": "float64",
                  "type": "float"
                },
                {
                  "name": "F_c_SK",
                  "rawType": "float64",
                  "type": "float"
                },
                {
                  "name": "F_c_MEAN",
                  "rawType": "float64",
                  "type": "float"
                },
                {
                  "name": "F_c_MAX",
                  "rawType": "float64",
                  "type": "float"
                },
                {
                  "name": "F_c_KURT",
                  "rawType": "float64",
                  "type": "float"
                },
                {
                  "name": "Iu_s_RMS",
                  "rawType": "float64",
                  "type": "float"
                },
                {
                  "name": "Iu_s_SK",
                  "rawType": "float64",
                  "type": "float"
                },
                {
                  "name": "Iu_s_MEAN",
                  "rawType": "float64",
                  "type": "float"
                },
                {
                  "name": "Iu_s_MAX",
                  "rawType": "float64",
                  "type": "float"
                },
                {
                  "name": "Iu_s_KURT",
                  "rawType": "float64",
                  "type": "float"
                },
                {
                  "name": "Iu_x_RMS",
                  "rawType": "float64",
                  "type": "float"
                },
                {
                  "name": "Iu_x_SK",
                  "rawType": "float64",
                  "type": "float"
                },
                {
                  "name": "Iu_x_MEAN",
                  "rawType": "float64",
                  "type": "float"
                },
                {
                  "name": "Iu_x_MAX",
                  "rawType": "float64",
                  "type": "float"
                },
                {
                  "name": "Iu_x_KURT",
                  "rawType": "float64",
                  "type": "float"
                },
                {
                  "name": "Iv_s_RMS",
                  "rawType": "float64",
                  "type": "float"
                },
                {
                  "name": "Iv_s_SK",
                  "rawType": "float64",
                  "type": "float"
                },
                {
                  "name": "Iv_s_MEAN",
                  "rawType": "float64",
                  "type": "float"
                },
                {
                  "name": "Iv_s_MAX",
                  "rawType": "float64",
                  "type": "float"
                },
                {
                  "name": "Iv_s_KURT",
                  "rawType": "float64",
                  "type": "float"
                },
                {
                  "name": "Iv_x_RMS",
                  "rawType": "float64",
                  "type": "float"
                },
                {
                  "name": "Iv_x_SK",
                  "rawType": "float64",
                  "type": "float"
                },
                {
                  "name": "Iv_x_MEAN",
                  "rawType": "float64",
                  "type": "float"
                },
                {
                  "name": "Iv_x_MAX",
                  "rawType": "float64",
                  "type": "float"
                },
                {
                  "name": "Iv_x_KURT",
                  "rawType": "float64",
                  "type": "float"
                },
                {
                  "name": "Micro_RMS",
                  "rawType": "float64",
                  "type": "float"
                },
                {
                  "name": "Micro_SK",
                  "rawType": "float64",
                  "type": "float"
                },
                {
                  "name": "Micro_MEAN",
                  "rawType": "float64",
                  "type": "float"
                },
                {
                  "name": "Micro_MAX",
                  "rawType": "float64",
                  "type": "float"
                },
                {
                  "name": "Micro_KURT",
                  "rawType": "float64",
                  "type": "float"
                },
                {
                  "name": "Vu_s_RMS",
                  "rawType": "float64",
                  "type": "float"
                },
                {
                  "name": "Vu_s_SK",
                  "rawType": "float64",
                  "type": "float"
                },
                {
                  "name": "Vu_s_MEAN",
                  "rawType": "float64",
                  "type": "float"
                },
                {
                  "name": "Vu_s_MAX",
                  "rawType": "float64",
                  "type": "float"
                },
                {
                  "name": "Vu_s_KURT",
                  "rawType": "float64",
                  "type": "float"
                },
                {
                  "name": "Vu_x_RMS",
                  "rawType": "float64",
                  "type": "float"
                },
                {
                  "name": "Vu_x_SK",
                  "rawType": "float64",
                  "type": "float"
                },
                {
                  "name": "Vu_x_MEAN",
                  "rawType": "float64",
                  "type": "float"
                },
                {
                  "name": "Vu_x_MAX",
                  "rawType": "float64",
                  "type": "float"
                },
                {
                  "name": "Vu_x_KURT",
                  "rawType": "float64",
                  "type": "float"
                },
                {
                  "name": "Vv_s_RMS",
                  "rawType": "float64",
                  "type": "float"
                },
                {
                  "name": "Vv_s_SK",
                  "rawType": "float64",
                  "type": "float"
                },
                {
                  "name": "Vv_s_MEAN",
                  "rawType": "float64",
                  "type": "float"
                },
                {
                  "name": "Vv_s_MAX",
                  "rawType": "float64",
                  "type": "float"
                },
                {
                  "name": "Vv_s_KURT",
                  "rawType": "float64",
                  "type": "float"
                },
                {
                  "name": "Vv_x_RMS",
                  "rawType": "float64",
                  "type": "float"
                },
                {
                  "name": "Vv_x_SK",
                  "rawType": "float64",
                  "type": "float"
                },
                {
                  "name": "Vv_x_MEAN",
                  "rawType": "float64",
                  "type": "float"
                },
                {
                  "name": "Vv_x_MAX",
                  "rawType": "float64",
                  "type": "float"
                },
                {
                  "name": "Vv_x_KURT",
                  "rawType": "float64",
                  "type": "float"
                },
                {
                  "name": "Vw_s_RMS",
                  "rawType": "float64",
                  "type": "float"
                },
                {
                  "name": "Vw_s_SK",
                  "rawType": "float64",
                  "type": "float"
                },
                {
                  "name": "Vw_s_MEAN",
                  "rawType": "float64",
                  "type": "float"
                },
                {
                  "name": "Vw_s_MAX",
                  "rawType": "float64",
                  "type": "float"
                },
                {
                  "name": "Vw_s_KURT",
                  "rawType": "float64",
                  "type": "float"
                },
                {
                  "name": "Vw_x_RMS",
                  "rawType": "float64",
                  "type": "float"
                },
                {
                  "name": "Vw_x_SK",
                  "rawType": "float64",
                  "type": "float"
                },
                {
                  "name": "Vw_x_MEAN",
                  "rawType": "float64",
                  "type": "float"
                },
                {
                  "name": "Vw_x_MAX",
                  "rawType": "float64",
                  "type": "float"
                },
                {
                  "name": "Vw_x_KURT",
                  "rawType": "float64",
                  "type": "float"
                },
                {
                  "name": "TV50.S_RMS",
                  "rawType": "float64",
                  "type": "float"
                },
                {
                  "name": "TV50.S_SK",
                  "rawType": "float64",
                  "type": "float"
                },
                {
                  "name": "TV50.S_MEAN",
                  "rawType": "float64",
                  "type": "float"
                },
                {
                  "name": "TV50.S_MAX",
                  "rawType": "int64",
                  "type": "integer"
                },
                {
                  "name": "TV50.S_KURT",
                  "rawType": "float64",
                  "type": "float"
                },
                {
                  "name": "TV51.S_RMS",
                  "rawType": "float64",
                  "type": "float"
                },
                {
                  "name": "TV51.S_SK",
                  "rawType": "float64",
                  "type": "float"
                },
                {
                  "name": "TV51.S_MEAN",
                  "rawType": "float64",
                  "type": "float"
                },
                {
                  "name": "TV51.S_MAX",
                  "rawType": "int64",
                  "type": "integer"
                },
                {
                  "name": "TV51.S_KURT",
                  "rawType": "float64",
                  "type": "float"
                },
                {
                  "name": "TV2.S_RMS",
                  "rawType": "float64",
                  "type": "float"
                },
                {
                  "name": "TV2.S_SK",
                  "rawType": "float64",
                  "type": "float"
                },
                {
                  "name": "TV2.S_MEAN",
                  "rawType": "float64",
                  "type": "float"
                },
                {
                  "name": "TV2.S_MAX",
                  "rawType": "int64",
                  "type": "integer"
                },
                {
                  "name": "TV2.S_KURT",
                  "rawType": "float64",
                  "type": "float"
                },
                {
                  "name": "TV2.X_RMS",
                  "rawType": "float64",
                  "type": "float"
                },
                {
                  "name": "TV2.X_SK",
                  "rawType": "float64",
                  "type": "float"
                },
                {
                  "name": "TV2.X_MEAN",
                  "rawType": "float64",
                  "type": "float"
                },
                {
                  "name": "TV2.X_MAX",
                  "rawType": "int64",
                  "type": "integer"
                },
                {
                  "name": "TV2.X_KURT",
                  "rawType": "float64",
                  "type": "float"
                },
                {
                  "name": "TV2.Z_RMS",
                  "rawType": "float64",
                  "type": "float"
                },
                {
                  "name": "TV2.Z_SK",
                  "rawType": "float64",
                  "type": "float"
                },
                {
                  "name": "TV2.Z_MEAN",
                  "rawType": "float64",
                  "type": "float"
                },
                {
                  "name": "TV2.Z_MAX",
                  "rawType": "int64",
                  "type": "integer"
                },
                {
                  "name": "TV2.Z_KURT",
                  "rawType": "float64",
                  "type": "float"
                },
                {
                  "name": "CV3.S_RMS",
                  "rawType": "float64",
                  "type": "float"
                },
                {
                  "name": "CV3.S_SK",
                  "rawType": "float64",
                  "type": "float"
                },
                {
                  "name": "CV3.S_MEAN",
                  "rawType": "float64",
                  "type": "float"
                },
                {
                  "name": "CV3.S_MAX",
                  "rawType": "int64",
                  "type": "integer"
                },
                {
                  "name": "CV3.S_KURT",
                  "rawType": "float64",
                  "type": "float"
                },
                {
                  "name": "CV3.X_RMS",
                  "rawType": "float64",
                  "type": "float"
                },
                {
                  "name": "CV3.X_SK",
                  "rawType": "float64",
                  "type": "float"
                },
                {
                  "name": "CV3.X_MEAN",
                  "rawType": "float64",
                  "type": "float"
                },
                {
                  "name": "CV3.X_MAX",
                  "rawType": "int64",
                  "type": "integer"
                },
                {
                  "name": "CV3.X_KURT",
                  "rawType": "float64",
                  "type": "float"
                },
                {
                  "name": "CV3.Z_RMS",
                  "rawType": "float64",
                  "type": "float"
                },
                {
                  "name": "CV3.Z_SK",
                  "rawType": "float64",
                  "type": "float"
                },
                {
                  "name": "CV3.Z_MEAN",
                  "rawType": "float64",
                  "type": "float"
                },
                {
                  "name": "CV3.Z_MAX",
                  "rawType": "int64",
                  "type": "integer"
                },
                {
                  "name": "CV3.Z_KURT",
                  "rawType": "float64",
                  "type": "float"
                },
                {
                  "name": "CON.SV2.S",
                  "rawType": "float64",
                  "type": "float"
                },
                {
                  "name": "CON.SV2.X",
                  "rawType": "float64",
                  "type": "float"
                },
                {
                  "name": "CON.SV2.Z",
                  "rawType": "float64",
                  "type": "float"
                },
                {
                  "name": "CON.G.FREAL",
                  "rawType": "float64",
                  "type": "float"
                },
                {
                  "name": "CON.A.SREAL.S",
                  "rawType": "float64",
                  "type": "float"
                },
                {
                  "name": "tool",
                  "rawType": "int64",
                  "type": "integer"
                },
                {
                  "name": "Vb",
                  "rawType": "float64",
                  "type": "float"
                }
              ],
              "ref": "a227e73d-ffa4-47fa-95c8-9c6818bcadeb",
              "rows": [
                [
                  "0",
                  "0.203665",
                  "4.044778",
                  "0.000731",
                  "0.027032",
                  "2310",
                  "42",
                  "7.534122999999999",
                  "5.223148999999999",
                  "-0.124066",
                  "0.020679",
                  "23.002806",
                  "3.241069",
                  "3.3147620000000004",
                  "-0.497801",
                  "0.02157",
                  "17.343802",
                  "4.269443",
                  "5.768133",
                  "-0.071488",
                  "0.0198199999999999",
                  "28.612519",
                  "3.205841",
                  "0.001894",
                  "0.086012",
                  "-8.4e-05",
                  "0.008118",
                  "2.739763",
                  "8.598905",
                  "-0.02952",
                  "0.020761",
                  "37.481806",
                  "3.115971",
                  "3.293495",
                  "-0.518513",
                  "0.021003",
                  "16.142792",
                  "4.305382",
                  "179.29143100000002",
                  "0.145675",
                  "179.156894",
                  "226.621843",
                  "3.567908",
                  "364.824851",
                  "0.381207",
                  "364.747005",
                  "399.545547",
                  "2.767491",
                  "528.9955610000001",
                  "0.487983",
                  "528.644022",
                  "591.617515",
                  "2.277683",
                  "31.096758",
                  "-0.012418",
                  "-0.560576",
                  "90.666083",
                  "2.502913",
                  "0.046174",
                  "-0.745941",
                  "0.0105209999999999",
                  "0.144484",
                  "4.6354370000000005",
                  "32.568333",
                  "-0.003486",
                  "0.738408",
                  "104.291929",
                  "2.541931",
                  "0.658288",
                  "-0.568733",
                  "-0.653866",
                  "-0.470335",
                  "3.298252",
                  "0.472446",
                  "-0.086089",
                  "0.000459",
                  "1.832043",
                  "2.835476",
                  "265.149329",
                  "0.001307",
                  "-4.318571",
                  "423.863144",
                  "1.266426",
                  "198.767102",
                  "0.004075",
                  "1.493525",
                  "387.216957",
                  "2.056973",
                  "265.216925",
                  "-5.7e-05",
                  "-4.140633",
                  "426.926145",
                  "1.265181",
                  "198.945984",
                  "-0.00159",
                  "-1.098548",
                  "384.956677",
                  "2.05655",
                  "264.137967",
                  "0.001078",
                  "-4.124829",
                  "419.311903",
                  "1.261658",
                  "198.103124",
                  "0.002968",
                  "0.276729",
                  "384.282558",
                  "2.054985",
                  "564.990237",
                  "0.233906",
                  "564.968",
                  "578",
                  "2.521053",
                  "6876.209322",
                  "0.105041",
                  "6872.292",
                  "7438",
                  "2.617511",
                  "121.16861000000002",
                  "0.226091",
                  "116.28",
                  "175",
                  "1.543166",
                  "135.922169",
                  "-0.199208",
                  "135.892",
                  "144",
                  "4.399709",
                  "98.434181",
                  "-0.236132",
                  "92.976",
                  "161",
                  "2.3152790000000003",
                  "285.605637",
                  "-0.013604",
                  "283.988",
                  "346",
                  "1.711727",
                  "5.1431510000000005",
                  "2.187505",
                  "5.132",
                  "6",
                  "5.807574",
                  "14.361337",
                  "-0.225628",
                  "13.512",
                  "24",
                  "2.318726",
                  "23939045.05",
                  "1370.871415",
                  "233815.5871",
                  "2260.913532",
                  "8155288.123",
                  "5",
                  "0.0"
                ],
                [
                  "1",
                  "0.194863",
                  "3.991339",
                  "0.000728",
                  "0.0269769999999999",
                  "2078",
                  "33",
                  "7.223210000000001",
                  "5.12717",
                  "-0.12761",
                  "-0.028392",
                  "22.835884",
                  "3.2517080000000003",
                  "3.327088",
                  "-0.544798",
                  "-0.029487",
                  "14.701156",
                  "4.270987",
                  "5.963798000000001",
                  "-0.058922",
                  "-0.028363",
                  "24.971301",
                  "3.176833",
                  "0.001675",
                  "-0.001659",
                  "5.9e-05",
                  "0.006742",
                  "2.443935",
                  "8.882796",
                  "-0.027054",
                  "-0.029071",
                  "43.501534",
                  "3.099619",
                  "3.304311",
                  "-0.576438",
                  "-0.028921",
                  "14.806293",
                  "4.333573",
                  "180.821527",
                  "0.157397",
                  "180.702978",
                  "209.403223",
                  "3.181353",
                  "364.367006",
                  "0.332485",
                  "364.297951",
                  "391.686244",
                  "2.536629",
                  "529.0994509999999",
                  "0.5106609999999999",
                  "528.7639389999999",
                  "587.963163",
                  "2.293927",
                  "31.096908000000003",
                  "-0.013267",
                  "-0.349896",
                  "94.877778",
                  "2.500054",
                  "0.045513",
                  "-0.735121",
                  "0.007637",
                  "0.152636",
                  "4.626998",
                  "32.592741",
                  "-0.002769",
                  "0.5383140000000001",
                  "105.086019",
                  "2.546171",
                  "0.474759",
                  "-0.722646",
                  "-0.469479",
                  "-0.299764",
                  "3.689187",
                  "0.450157",
                  "0.018537",
                  "-0.00138",
                  "1.610455",
                  "2.763591",
                  "265.687589",
                  "0.00025",
                  "-3.135682",
                  "423.495915",
                  "1.265606",
                  "199.116145",
                  "0.003685",
                  "1.075177",
                  "388.078619",
                  "2.056776",
                  "265.651513",
                  "-8.4e-05",
                  "-2.980061",
                  "427.413622",
                  "1.26462",
                  "199.30695",
                  "-0.001825",
                  "-0.786145",
                  "386.699055",
                  "2.057225",
                  "264.60205",
                  "0.000428",
                  "-2.989713",
                  "421.391306",
                  "1.262966",
                  "198.46429",
                  "0.002625",
                  "0.201656",
                  "385.137134",
                  "2.055281",
                  "563.218164",
                  "-0.112515",
                  "563.188",
                  "578",
                  "2.197077",
                  "6894.818638",
                  "0.14047",
                  "6890.688",
                  "7597",
                  "2.839279",
                  "121.13244",
                  "0.1895119999999999",
                  "116.276",
                  "182",
                  "1.5693780000000002",
                  "135.48595500000002",
                  "-0.602942",
                  "135.452",
                  "141",
                  "3.784948",
                  "97.076836",
                  "-0.253545",
                  "91.688",
                  "153",
                  "2.228415",
                  "286.996279",
                  "-0.050802",
                  "285.376",
                  "336",
                  "1.725812",
                  "5.117421",
                  "2.541205",
                  "5.108",
                  "6",
                  "7.49361",
                  "14.121756",
                  "-0.253609",
                  "13.28",
                  "22",
                  "2.242422",
                  "23936873.29",
                  "1503.875567",
                  "233795.071899",
                  "2263.317532",
                  "8153697.292",
                  "5",
                  "2.172"
                ],
                [
                  "2",
                  "0.203046",
                  "4.00736",
                  "0.000717",
                  "0.026781",
                  "2019",
                  "39",
                  "7.581602",
                  "5.151557",
                  "-0.13291",
                  "0.017371",
                  "23.017018",
                  "3.293766",
                  "3.334376",
                  "-0.560694",
                  "0.0172189999999999",
                  "17.147013",
                  "4.489304",
                  "5.926833",
                  "-0.064978",
                  "0.016878",
                  "23.446909",
                  "3.248374",
                  "0.001647",
                  "-0.011354",
                  "1.8e-05",
                  "0.005825",
                  "2.420148",
                  "8.773203",
                  "0.000436",
                  "0.0180199999999999",
                  "40.025475",
                  "3.206396",
                  "3.297796",
                  "-0.588344",
                  "0.016794",
                  "17.171936",
                  "4.569516",
                  "180.295631",
                  "0.221373",
                  "180.17383",
                  "219.169002",
                  "3.499563",
                  "364.138461",
                  "0.41793",
                  "364.069472",
                  "399.927012",
                  "2.967898",
                  "526.579131",
                  "0.520437",
                  "526.2258099999999",
                  "592.031244",
                  "2.430568",
                  "31.090077",
                  "-0.010942",
                  "-0.21389",
                  "91.445031",
                  "2.497164",
                  "0.045043",
                  "-0.73709",
                  "0.005098",
                  "0.154333",
                  "4.62407",
                  "32.589343",
                  "-0.007543",
                  "0.387317",
                  "102.282022",
                  "2.551484",
                  "0.317633",
                  "-0.881892",
                  "-0.310776",
                  "-0.15868",
                  "4.076586",
                  "0.465413",
                  "-0.012372",
                  "-0.001058",
                  "1.708902",
                  "2.742221",
                  "265.363811",
                  "0.000889",
                  "-2.052998",
                  "428.460213",
                  "1.266312",
                  "198.926147",
                  "0.003818",
                  "0.721168",
                  "386.73657",
                  "2.056707",
                  "265.361733",
                  "0.000401",
                  "-1.921567",
                  "426.779514",
                  "1.265627",
                  "199.085038",
                  "-0.001747",
                  "-0.512166",
                  "385.655701",
                  "2.056459",
                  "264.312427",
                  "0.001702",
                  "-1.973822",
                  "423.929157",
                  "1.26207",
                  "198.262022",
                  "0.002764",
                  "0.143215",
                  "384.618904",
                  "2.054854",
                  "563.9549910000001",
                  "0.222039",
                  "563.896",
                  "585",
                  "2.256543",
                  "6887.742695999999",
                  "0.084139",
                  "6883.332",
                  "7519",
                  "2.737694",
                  "121.116968",
                  "0.206419",
                  "116.008",
                  "175",
                  "1.555565",
                  "135.575204",
                  "0.214246",
                  "135.548",
                  "144",
                  "3.328049",
                  "96.555021",
                  "-0.265244",
                  "90.976",
                  "156",
                  "2.358543",
                  "287.21165",
                  "-0.009025",
                  "285.42",
                  "344",
                  "1.69979",
                  "5.100196",
                  "2.840346",
                  "5.092",
                  "6",
                  "9.116437",
                  "14.107870000000002",
                  "-0.272631",
                  "13.24",
                  "23",
                  "2.398679",
                  "23936274.49",
                  "1417.811116",
                  "234333.2511",
                  "2266.488887",
                  "8156394.185985001",
                  "5",
                  "4.345"
                ],
                [
                  "3",
                  "0.2064619999999999",
                  "4.007104",
                  "0.000716",
                  "0.026767",
                  "2105",
                  "32",
                  "7.71329",
                  "5.12969",
                  "-0.12292",
                  "-0.008704",
                  "20.321064",
                  "3.177388",
                  "3.269763",
                  "-0.521749",
                  "-0.008815",
                  "13.675718",
                  "4.342072",
                  "5.91735",
                  "-0.055884",
                  "-0.008037",
                  "28.16004",
                  "3.194905",
                  "0.001651",
                  "-0.011479",
                  "4e-06",
                  "0.006289",
                  "2.427128",
                  "8.819289999999999",
                  "-0.011402",
                  "-0.008309",
                  "40.913728000000006",
                  "3.127899",
                  "3.23208",
                  "-0.553998",
                  "-0.008523",
                  "13.733713",
                  "4.395048",
                  "181.238803",
                  "0.05955",
                  "181.120726",
                  "209.552882",
                  "3.274235",
                  "365.883228",
                  "0.292417",
                  "365.820534",
                  "391.517874",
                  "2.567868",
                  "529.3396339999999",
                  "0.406569",
                  "528.997033",
                  "590.542949",
                  "2.170845",
                  "31.113269",
                  "-0.007657",
                  "-0.161289",
                  "89.87594",
                  "2.497012",
                  "0.044932",
                  "-0.729238",
                  "0.002842",
                  "0.1469589999999999",
                  "4.626869999999999",
                  "32.585608",
                  "-0.00794",
                  "0.309277",
                  "103.916594",
                  "2.545919",
                  "0.186336",
                  "-1.053343",
                  "-0.175882",
                  "-0.023771",
                  "4.509646",
                  "0.443745",
                  "-0.030427",
                  "0.000139",
                  "1.485202",
                  "2.667995",
                  "264.939496",
                  "0.000589",
                  "-1.242831",
                  "427.514366",
                  "1.266185",
                  "198.598263",
                  "0.003828",
                  "0.389151",
                  "388.561583",
                  "2.057017",
                  "264.960558",
                  "-0.00031",
                  "-1.125001",
                  "425.561089",
                  "1.266007",
                  "198.774753",
                  "-0.001761",
                  "-0.309749",
                  "384.21279",
                  "2.056548",
                  "263.895201",
                  "0.001063",
                  "-1.19831",
                  "420.6745",
                  "1.261445",
                  "197.937977",
                  "0.002754",
                  "0.061334",
                  "383.025971",
                  "2.054798",
                  "564.4673809999999",
                  "-0.055519",
                  "564.448",
                  "576",
                  "2.538553",
                  "6885.571426",
                  "-0.227105",
                  "6881.3",
                  "7451",
                  "2.710171",
                  "122.087035",
                  "0.183652",
                  "116.844",
                  "177",
                  "1.515582",
                  "135.608599",
                  "-0.278457",
                  "135.572",
                  "144",
                  "3.765492",
                  "96.593023",
                  "-0.200197",
                  "91.044",
                  "157",
                  "2.239719",
                  "285.671567",
                  "0.000725",
                  "284.02",
                  "339",
                  "1.612254",
                  "5.130302",
                  "2.352879",
                  "5.12",
                  "6",
                  "6.564493",
                  "14.097659",
                  "-0.204799",
                  "13.24",
                  "23",
                  "2.215272",
                  "23941252.24",
                  "1357.918489",
                  "234497.141218",
                  "2267.637296",
                  "8155210.292",
                  "5",
                  "6.517"
                ],
                [
                  "4",
                  "0.197119",
                  "4.016845",
                  "0.000714",
                  "0.026724",
                  "2053",
                  "29",
                  "7.376236",
                  "5.205071",
                  "-0.131262",
                  "-0.01824",
                  "24.334465",
                  "3.248465",
                  "3.284127",
                  "-0.517848",
                  "-0.017675",
                  "17.0312",
                  "4.236618",
                  "6.202478",
                  "-0.035084",
                  "-0.017127",
                  "29.346255",
                  "3.1420220000000003",
                  "0.001645",
                  "-0.01201",
                  "2e-06",
                  "0.005856",
                  "2.404637",
                  "9.123074",
                  "-0.025049",
                  "-0.019341",
                  "40.124793",
                  "3.107081",
                  "3.252686",
                  "-0.545661",
                  "-0.017449",
                  "17.442288",
                  "4.276789",
                  "181.39011",
                  "0.161642",
                  "181.276698",
                  "220.136142",
                  "3.388092",
                  "366.299272",
                  "0.352032",
                  "366.242733",
                  "393.421815",
                  "2.730352",
                  "528.335594",
                  "0.508971",
                  "528.024294",
                  "587.2996929999999",
                  "2.342751",
                  "31.08433",
                  "-0.006538",
                  "-0.123898",
                  "91.611032",
                  "2.502629",
                  "0.044837",
                  "-0.74014",
                  "0.00084",
                  "0.142141",
                  "4.63645",
                  "32.587728000000006",
                  "-0.004009",
                  "0.15908",
                  "101.11006",
                  "2.544797",
                  "0.08576",
                  "-1.23068",
                  "-0.062687",
                  "0.086111",
                  "4.948891000000001",
                  "0.460958",
                  "-0.043606",
                  "0.000676",
                  "1.715602",
                  "2.783551",
                  "264.85254100000003",
                  "0.000538",
                  "-0.406239",
                  "426.895966",
                  "1.266131",
                  "198.522804",
                  "0.003778",
                  "0.160743",
                  "384.832478",
                  "2.056744",
                  "264.85631",
                  "-0.000126",
                  "-0.327624",
                  "429.406082",
                  "1.2652",
                  "198.69976",
                  "-0.00193",
                  "-0.088482",
                  "385.262875",
                  "2.056673",
                  "263.827715",
                  "0.000586",
                  "-0.407313",
                  "422.455399",
                  "1.261508",
                  "197.856413",
                  "0.002612",
                  "0.042881",
                  "382.275512",
                  "2.05495",
                  "561.596147",
                  "-0.015482",
                  "561.56",
                  "578",
                  "2.382177",
                  "6907.077239",
                  "-0.248704",
                  "6902.68",
                  "7520",
                  "2.796112",
                  "122.283212",
                  "0.153406",
                  "116.952",
                  "180",
                  "1.509258",
                  "135.808836",
                  "-0.565902",
                  "135.776",
                  "143",
                  "5.255935",
                  "94.724696",
                  "-0.292433",
                  "89.168",
                  "146",
                  "2.279217",
                  "287.209638",
                  "-0.112839",
                  "285.488",
                  "340",
                  "1.638276",
                  "5.130302",
                  "2.352879",
                  "5.12",
                  "6",
                  "6.564493",
                  "13.802464",
                  "-0.29112",
                  "12.948",
                  "21",
                  "2.267548",
                  "23936992.41",
                  "1388.865576",
                  "234292.008305",
                  "2268.203688",
                  "8154651.786110001",
                  "5",
                  "8.69"
                ]
              ],
              "shape": {
                "columns": 154,
                "rows": 5
              }
            },
            "text/html": [
              "<div>\n",
              "<style scoped>\n",
              "    .dataframe tbody tr th:only-of-type {\n",
              "        vertical-align: middle;\n",
              "    }\n",
              "\n",
              "    .dataframe tbody tr th {\n",
              "        vertical-align: top;\n",
              "    }\n",
              "\n",
              "    .dataframe thead th {\n",
              "        text-align: right;\n",
              "    }\n",
              "</style>\n",
              "<table border=\"1\" class=\"dataframe\">\n",
              "  <thead>\n",
              "    <tr style=\"text-align: right;\">\n",
              "      <th></th>\n",
              "      <th>AE_MAX</th>\n",
              "      <th>AE_KURT</th>\n",
              "      <th>AE_VAR</th>\n",
              "      <th>AE_RMS</th>\n",
              "      <th>AE_C_0.1</th>\n",
              "      <th>AE_C_0.15</th>\n",
              "      <th>AE_CF</th>\n",
              "      <th>Ax1_RMS</th>\n",
              "      <th>Ax1_SK</th>\n",
              "      <th>Ax1_MEAN</th>\n",
              "      <th>...</th>\n",
              "      <th>CV3.Z_MEAN</th>\n",
              "      <th>CV3.Z_MAX</th>\n",
              "      <th>CV3.Z_KURT</th>\n",
              "      <th>CON.SV2.S</th>\n",
              "      <th>CON.SV2.X</th>\n",
              "      <th>CON.SV2.Z</th>\n",
              "      <th>CON.G.FREAL</th>\n",
              "      <th>CON.A.SREAL.S</th>\n",
              "      <th>tool</th>\n",
              "      <th>Vb</th>\n",
              "    </tr>\n",
              "  </thead>\n",
              "  <tbody>\n",
              "    <tr>\n",
              "      <th>0</th>\n",
              "      <td>0.203665</td>\n",
              "      <td>4.044778</td>\n",
              "      <td>0.000731</td>\n",
              "      <td>0.027032</td>\n",
              "      <td>2310</td>\n",
              "      <td>42</td>\n",
              "      <td>7.534123</td>\n",
              "      <td>5.223149</td>\n",
              "      <td>-0.124066</td>\n",
              "      <td>0.020679</td>\n",
              "      <td>...</td>\n",
              "      <td>13.512</td>\n",
              "      <td>24</td>\n",
              "      <td>2.318726</td>\n",
              "      <td>23939045.05</td>\n",
              "      <td>1370.871415</td>\n",
              "      <td>233815.587100</td>\n",
              "      <td>2260.913532</td>\n",
              "      <td>8.155288e+06</td>\n",
              "      <td>5</td>\n",
              "      <td>0.000</td>\n",
              "    </tr>\n",
              "    <tr>\n",
              "      <th>1</th>\n",
              "      <td>0.194863</td>\n",
              "      <td>3.991339</td>\n",
              "      <td>0.000728</td>\n",
              "      <td>0.026977</td>\n",
              "      <td>2078</td>\n",
              "      <td>33</td>\n",
              "      <td>7.223210</td>\n",
              "      <td>5.127170</td>\n",
              "      <td>-0.127610</td>\n",
              "      <td>-0.028392</td>\n",
              "      <td>...</td>\n",
              "      <td>13.280</td>\n",
              "      <td>22</td>\n",
              "      <td>2.242422</td>\n",
              "      <td>23936873.29</td>\n",
              "      <td>1503.875567</td>\n",
              "      <td>233795.071899</td>\n",
              "      <td>2263.317532</td>\n",
              "      <td>8.153697e+06</td>\n",
              "      <td>5</td>\n",
              "      <td>2.172</td>\n",
              "    </tr>\n",
              "    <tr>\n",
              "      <th>2</th>\n",
              "      <td>0.203046</td>\n",
              "      <td>4.007360</td>\n",
              "      <td>0.000717</td>\n",
              "      <td>0.026781</td>\n",
              "      <td>2019</td>\n",
              "      <td>39</td>\n",
              "      <td>7.581602</td>\n",
              "      <td>5.151557</td>\n",
              "      <td>-0.132910</td>\n",
              "      <td>0.017371</td>\n",
              "      <td>...</td>\n",
              "      <td>13.240</td>\n",
              "      <td>23</td>\n",
              "      <td>2.398679</td>\n",
              "      <td>23936274.49</td>\n",
              "      <td>1417.811116</td>\n",
              "      <td>234333.251100</td>\n",
              "      <td>2266.488887</td>\n",
              "      <td>8.156394e+06</td>\n",
              "      <td>5</td>\n",
              "      <td>4.345</td>\n",
              "    </tr>\n",
              "    <tr>\n",
              "      <th>3</th>\n",
              "      <td>0.206462</td>\n",
              "      <td>4.007104</td>\n",
              "      <td>0.000716</td>\n",
              "      <td>0.026767</td>\n",
              "      <td>2105</td>\n",
              "      <td>32</td>\n",
              "      <td>7.713290</td>\n",
              "      <td>5.129690</td>\n",
              "      <td>-0.122920</td>\n",
              "      <td>-0.008704</td>\n",
              "      <td>...</td>\n",
              "      <td>13.240</td>\n",
              "      <td>23</td>\n",
              "      <td>2.215272</td>\n",
              "      <td>23941252.24</td>\n",
              "      <td>1357.918489</td>\n",
              "      <td>234497.141218</td>\n",
              "      <td>2267.637296</td>\n",
              "      <td>8.155210e+06</td>\n",
              "      <td>5</td>\n",
              "      <td>6.517</td>\n",
              "    </tr>\n",
              "    <tr>\n",
              "      <th>4</th>\n",
              "      <td>0.197119</td>\n",
              "      <td>4.016845</td>\n",
              "      <td>0.000714</td>\n",
              "      <td>0.026724</td>\n",
              "      <td>2053</td>\n",
              "      <td>29</td>\n",
              "      <td>7.376236</td>\n",
              "      <td>5.205071</td>\n",
              "      <td>-0.131262</td>\n",
              "      <td>-0.018240</td>\n",
              "      <td>...</td>\n",
              "      <td>12.948</td>\n",
              "      <td>21</td>\n",
              "      <td>2.267548</td>\n",
              "      <td>23936992.41</td>\n",
              "      <td>1388.865576</td>\n",
              "      <td>234292.008305</td>\n",
              "      <td>2268.203688</td>\n",
              "      <td>8.154652e+06</td>\n",
              "      <td>5</td>\n",
              "      <td>8.690</td>\n",
              "    </tr>\n",
              "  </tbody>\n",
              "</table>\n",
              "<p>5 rows × 154 columns</p>\n",
              "</div>"
            ],
            "text/plain": [
              "     AE_MAX   AE_KURT    AE_VAR    AE_RMS  AE_C_0.1  AE_C_0.15     AE_CF  \\\n",
              "0  0.203665  4.044778  0.000731  0.027032      2310         42  7.534123   \n",
              "1  0.194863  3.991339  0.000728  0.026977      2078         33  7.223210   \n",
              "2  0.203046  4.007360  0.000717  0.026781      2019         39  7.581602   \n",
              "3  0.206462  4.007104  0.000716  0.026767      2105         32  7.713290   \n",
              "4  0.197119  4.016845  0.000714  0.026724      2053         29  7.376236   \n",
              "\n",
              "    Ax1_RMS    Ax1_SK  Ax1_MEAN  ...  CV3.Z_MEAN  CV3.Z_MAX  CV3.Z_KURT  \\\n",
              "0  5.223149 -0.124066  0.020679  ...      13.512         24    2.318726   \n",
              "1  5.127170 -0.127610 -0.028392  ...      13.280         22    2.242422   \n",
              "2  5.151557 -0.132910  0.017371  ...      13.240         23    2.398679   \n",
              "3  5.129690 -0.122920 -0.008704  ...      13.240         23    2.215272   \n",
              "4  5.205071 -0.131262 -0.018240  ...      12.948         21    2.267548   \n",
              "\n",
              "     CON.SV2.S    CON.SV2.X      CON.SV2.Z  CON.G.FREAL  CON.A.SREAL.S  tool  \\\n",
              "0  23939045.05  1370.871415  233815.587100  2260.913532   8.155288e+06     5   \n",
              "1  23936873.29  1503.875567  233795.071899  2263.317532   8.153697e+06     5   \n",
              "2  23936274.49  1417.811116  234333.251100  2266.488887   8.156394e+06     5   \n",
              "3  23941252.24  1357.918489  234497.141218  2267.637296   8.155210e+06     5   \n",
              "4  23936992.41  1388.865576  234292.008305  2268.203688   8.154652e+06     5   \n",
              "\n",
              "      Vb  \n",
              "0  0.000  \n",
              "1  2.172  \n",
              "2  4.345  \n",
              "3  6.517  \n",
              "4  8.690  \n",
              "\n",
              "[5 rows x 154 columns]"
            ]
          },
          "execution_count": 4,
          "metadata": {},
          "output_type": "execute_result"
        }
      ],
      "source": [
        "# TODO: add feature engineering steps\n",
        "df = load_vicomtech_data(selected_only=False)\n",
        "df.head()"
      ]
    },
    {
      "cell_type": "markdown",
      "metadata": {},
      "source": [
        "## Normalize / scale values"
      ]
    },
    {
      "cell_type": "code",
      "execution_count": 6,
      "metadata": {},
      "outputs": [],
      "source": [
        "from sklearn.preprocessing import StandardScaler\n",
        "df = load_vicomtech_data(selected_only=False)\n",
        "numeric = df.select_dtypes(include='number')\n",
        "scaler = StandardScaler()\n",
        "df[numeric.columns] = scaler.fit_transform(numeric)"
      ]
    },
    {
      "cell_type": "markdown",
      "metadata": {},
      "source": [
        "## Create new features"
      ]
    },
    {
      "cell_type": "code",
      "execution_count": 11,
      "metadata": {},
      "outputs": [
        {
          "ename": "KeyError",
          "evalue": "'f_c_max'",
          "output_type": "error",
          "traceback": [
            "\u001b[31m---------------------------------------------------------------------------\u001b[39m",
            "\u001b[31mKeyError\u001b[39m                                  Traceback (most recent call last)",
            "\u001b[36mFile \u001b[39m\u001b[32mc:\\Users\\jianb\\Documents\\GitHub\\tool-wear-prediction\\.venv\\Lib\\site-packages\\pandas\\core\\indexes\\base.py:3812\u001b[39m, in \u001b[36mIndex.get_loc\u001b[39m\u001b[34m(self, key)\u001b[39m\n\u001b[32m   3811\u001b[39m \u001b[38;5;28;01mtry\u001b[39;00m:\n\u001b[32m-> \u001b[39m\u001b[32m3812\u001b[39m     \u001b[38;5;28;01mreturn\u001b[39;00m \u001b[38;5;28;43mself\u001b[39;49m\u001b[43m.\u001b[49m\u001b[43m_engine\u001b[49m\u001b[43m.\u001b[49m\u001b[43mget_loc\u001b[49m\u001b[43m(\u001b[49m\u001b[43mcasted_key\u001b[49m\u001b[43m)\u001b[49m\n\u001b[32m   3813\u001b[39m \u001b[38;5;28;01mexcept\u001b[39;00m \u001b[38;5;167;01mKeyError\u001b[39;00m \u001b[38;5;28;01mas\u001b[39;00m err:\n",
            "\u001b[36mFile \u001b[39m\u001b[32mpandas/_libs/index.pyx:167\u001b[39m, in \u001b[36mpandas._libs.index.IndexEngine.get_loc\u001b[39m\u001b[34m()\u001b[39m\n",
            "\u001b[36mFile \u001b[39m\u001b[32mpandas/_libs/index.pyx:196\u001b[39m, in \u001b[36mpandas._libs.index.IndexEngine.get_loc\u001b[39m\u001b[34m()\u001b[39m\n",
            "\u001b[36mFile \u001b[39m\u001b[32mpandas/_libs/hashtable_class_helper.pxi:7088\u001b[39m, in \u001b[36mpandas._libs.hashtable.PyObjectHashTable.get_item\u001b[39m\u001b[34m()\u001b[39m\n",
            "\u001b[36mFile \u001b[39m\u001b[32mpandas/_libs/hashtable_class_helper.pxi:7096\u001b[39m, in \u001b[36mpandas._libs.hashtable.PyObjectHashTable.get_item\u001b[39m\u001b[34m()\u001b[39m\n",
            "\u001b[31mKeyError\u001b[39m: 'f_c_max'",
            "\nThe above exception was the direct cause of the following exception:\n",
            "\u001b[31mKeyError\u001b[39m                                  Traceback (most recent call last)",
            "\u001b[36mCell\u001b[39m\u001b[36m \u001b[39m\u001b[32mIn[11]\u001b[39m\u001b[32m, line 1\u001b[39m\n\u001b[32m----> \u001b[39m\u001b[32m1\u001b[39m df[\u001b[33m'\u001b[39m\u001b[33mforce_ratio\u001b[39m\u001b[33m'\u001b[39m] = \u001b[43mdf\u001b[49m\u001b[43m[\u001b[49m\u001b[33;43m'\u001b[39;49m\u001b[33;43mf_c_max\u001b[39;49m\u001b[33;43m'\u001b[39;49m\u001b[43m]\u001b[49m / df[\u001b[33m'\u001b[39m\u001b[33mf_c_rms\u001b[39m\u001b[33m'\u001b[39m]\n\u001b[32m      2\u001b[39m df[\u001b[33m'\u001b[39m\u001b[33macoustic_mean\u001b[39m\u001b[33m'\u001b[39m] = df[[\u001b[33m'\u001b[39m\u001b[33mae_rms\u001b[39m\u001b[33m'\u001b[39m, \u001b[33m'\u001b[39m\u001b[33mae_max\u001b[39m\u001b[33m'\u001b[39m]].mean(axis=\u001b[32m1\u001b[39m)\n",
            "\u001b[36mFile \u001b[39m\u001b[32mc:\\Users\\jianb\\Documents\\GitHub\\tool-wear-prediction\\.venv\\Lib\\site-packages\\pandas\\core\\frame.py:4107\u001b[39m, in \u001b[36mDataFrame.__getitem__\u001b[39m\u001b[34m(self, key)\u001b[39m\n\u001b[32m   4105\u001b[39m \u001b[38;5;28;01mif\u001b[39;00m \u001b[38;5;28mself\u001b[39m.columns.nlevels > \u001b[32m1\u001b[39m:\n\u001b[32m   4106\u001b[39m     \u001b[38;5;28;01mreturn\u001b[39;00m \u001b[38;5;28mself\u001b[39m._getitem_multilevel(key)\n\u001b[32m-> \u001b[39m\u001b[32m4107\u001b[39m indexer = \u001b[38;5;28;43mself\u001b[39;49m\u001b[43m.\u001b[49m\u001b[43mcolumns\u001b[49m\u001b[43m.\u001b[49m\u001b[43mget_loc\u001b[49m\u001b[43m(\u001b[49m\u001b[43mkey\u001b[49m\u001b[43m)\u001b[49m\n\u001b[32m   4108\u001b[39m \u001b[38;5;28;01mif\u001b[39;00m is_integer(indexer):\n\u001b[32m   4109\u001b[39m     indexer = [indexer]\n",
            "\u001b[36mFile \u001b[39m\u001b[32mc:\\Users\\jianb\\Documents\\GitHub\\tool-wear-prediction\\.venv\\Lib\\site-packages\\pandas\\core\\indexes\\base.py:3819\u001b[39m, in \u001b[36mIndex.get_loc\u001b[39m\u001b[34m(self, key)\u001b[39m\n\u001b[32m   3814\u001b[39m     \u001b[38;5;28;01mif\u001b[39;00m \u001b[38;5;28misinstance\u001b[39m(casted_key, \u001b[38;5;28mslice\u001b[39m) \u001b[38;5;129;01mor\u001b[39;00m (\n\u001b[32m   3815\u001b[39m         \u001b[38;5;28misinstance\u001b[39m(casted_key, abc.Iterable)\n\u001b[32m   3816\u001b[39m         \u001b[38;5;129;01mand\u001b[39;00m \u001b[38;5;28many\u001b[39m(\u001b[38;5;28misinstance\u001b[39m(x, \u001b[38;5;28mslice\u001b[39m) \u001b[38;5;28;01mfor\u001b[39;00m x \u001b[38;5;129;01min\u001b[39;00m casted_key)\n\u001b[32m   3817\u001b[39m     ):\n\u001b[32m   3818\u001b[39m         \u001b[38;5;28;01mraise\u001b[39;00m InvalidIndexError(key)\n\u001b[32m-> \u001b[39m\u001b[32m3819\u001b[39m     \u001b[38;5;28;01mraise\u001b[39;00m \u001b[38;5;167;01mKeyError\u001b[39;00m(key) \u001b[38;5;28;01mfrom\u001b[39;00m\u001b[38;5;250m \u001b[39m\u001b[34;01merr\u001b[39;00m\n\u001b[32m   3820\u001b[39m \u001b[38;5;28;01mexcept\u001b[39;00m \u001b[38;5;167;01mTypeError\u001b[39;00m:\n\u001b[32m   3821\u001b[39m     \u001b[38;5;66;03m# If we have a listlike key, _check_indexing_error will raise\u001b[39;00m\n\u001b[32m   3822\u001b[39m     \u001b[38;5;66;03m#  InvalidIndexError. Otherwise we fall through and re-raise\u001b[39;00m\n\u001b[32m   3823\u001b[39m     \u001b[38;5;66;03m#  the TypeError.\u001b[39;00m\n\u001b[32m   3824\u001b[39m     \u001b[38;5;28mself\u001b[39m._check_indexing_error(key)\n",
            "\u001b[31mKeyError\u001b[39m: 'f_c_max'"
          ]
        }
      ],
      "source": [
        "df['force_ratio'] = df['f_c_max'] / df['f_c_rms']\n",
        "df['acoustic_mean'] = df[['ae_rms', 'ae_max']].mean(axis=1)"
      ]
    },
    {
      "cell_type": "markdown",
      "metadata": {},
      "source": [
        "## Drop redundant columns"
      ]
    },
    {
      "cell_type": "code",
      "execution_count": 13,
      "metadata": {},
      "outputs": [],
      "source": [
        "df = df.drop(columns=['tool'])"
      ]
    },
    {
      "cell_type": "markdown",
      "metadata": {},
      "source": [
        "## Save cleaned data"
      ]
    },
    {
      "cell_type": "code",
      "execution_count": 14,
      "metadata": {},
      "outputs": [
        {
          "ename": "OSError",
          "evalue": "Cannot save file into a non-existent directory: 'data\\processed'",
          "output_type": "error",
          "traceback": [
            "\u001b[31m---------------------------------------------------------------------------\u001b[39m",
            "\u001b[31mOSError\u001b[39m                                   Traceback (most recent call last)",
            "\u001b[36mCell\u001b[39m\u001b[36m \u001b[39m\u001b[32mIn[14]\u001b[39m\u001b[32m, line 1\u001b[39m\n\u001b[32m----> \u001b[39m\u001b[32m1\u001b[39m \u001b[43mdf\u001b[49m\u001b[43m.\u001b[49m\u001b[43mto_csv\u001b[49m\u001b[43m(\u001b[49m\u001b[33;43m'\u001b[39;49m\u001b[33;43mdata/processed/cleaned.csv\u001b[39;49m\u001b[33;43m'\u001b[39;49m\u001b[43m,\u001b[49m\u001b[43m \u001b[49m\u001b[43mindex\u001b[49m\u001b[43m=\u001b[49m\u001b[38;5;28;43;01mFalse\u001b[39;49;00m\u001b[43m)\u001b[49m\n",
            "\u001b[36mFile \u001b[39m\u001b[32mc:\\Users\\jianb\\Documents\\GitHub\\tool-wear-prediction\\.venv\\Lib\\site-packages\\pandas\\util\\_decorators.py:333\u001b[39m, in \u001b[36mdeprecate_nonkeyword_arguments.<locals>.decorate.<locals>.wrapper\u001b[39m\u001b[34m(*args, **kwargs)\u001b[39m\n\u001b[32m    327\u001b[39m \u001b[38;5;28;01mif\u001b[39;00m \u001b[38;5;28mlen\u001b[39m(args) > num_allow_args:\n\u001b[32m    328\u001b[39m     warnings.warn(\n\u001b[32m    329\u001b[39m         msg.format(arguments=_format_argument_list(allow_args)),\n\u001b[32m    330\u001b[39m         \u001b[38;5;167;01mFutureWarning\u001b[39;00m,\n\u001b[32m    331\u001b[39m         stacklevel=find_stack_level(),\n\u001b[32m    332\u001b[39m     )\n\u001b[32m--> \u001b[39m\u001b[32m333\u001b[39m \u001b[38;5;28;01mreturn\u001b[39;00m \u001b[43mfunc\u001b[49m\u001b[43m(\u001b[49m\u001b[43m*\u001b[49m\u001b[43margs\u001b[49m\u001b[43m,\u001b[49m\u001b[43m \u001b[49m\u001b[43m*\u001b[49m\u001b[43m*\u001b[49m\u001b[43mkwargs\u001b[49m\u001b[43m)\u001b[49m\n",
            "\u001b[36mFile \u001b[39m\u001b[32mc:\\Users\\jianb\\Documents\\GitHub\\tool-wear-prediction\\.venv\\Lib\\site-packages\\pandas\\core\\generic.py:3986\u001b[39m, in \u001b[36mNDFrame.to_csv\u001b[39m\u001b[34m(self, path_or_buf, sep, na_rep, float_format, columns, header, index, index_label, mode, encoding, compression, quoting, quotechar, lineterminator, chunksize, date_format, doublequote, escapechar, decimal, errors, storage_options)\u001b[39m\n\u001b[32m   3975\u001b[39m df = \u001b[38;5;28mself\u001b[39m \u001b[38;5;28;01mif\u001b[39;00m \u001b[38;5;28misinstance\u001b[39m(\u001b[38;5;28mself\u001b[39m, ABCDataFrame) \u001b[38;5;28;01melse\u001b[39;00m \u001b[38;5;28mself\u001b[39m.to_frame()\n\u001b[32m   3977\u001b[39m formatter = DataFrameFormatter(\n\u001b[32m   3978\u001b[39m     frame=df,\n\u001b[32m   3979\u001b[39m     header=header,\n\u001b[32m   (...)\u001b[39m\u001b[32m   3983\u001b[39m     decimal=decimal,\n\u001b[32m   3984\u001b[39m )\n\u001b[32m-> \u001b[39m\u001b[32m3986\u001b[39m \u001b[38;5;28;01mreturn\u001b[39;00m \u001b[43mDataFrameRenderer\u001b[49m\u001b[43m(\u001b[49m\u001b[43mformatter\u001b[49m\u001b[43m)\u001b[49m\u001b[43m.\u001b[49m\u001b[43mto_csv\u001b[49m\u001b[43m(\u001b[49m\n\u001b[32m   3987\u001b[39m \u001b[43m    \u001b[49m\u001b[43mpath_or_buf\u001b[49m\u001b[43m,\u001b[49m\n\u001b[32m   3988\u001b[39m \u001b[43m    \u001b[49m\u001b[43mlineterminator\u001b[49m\u001b[43m=\u001b[49m\u001b[43mlineterminator\u001b[49m\u001b[43m,\u001b[49m\n\u001b[32m   3989\u001b[39m \u001b[43m    \u001b[49m\u001b[43msep\u001b[49m\u001b[43m=\u001b[49m\u001b[43msep\u001b[49m\u001b[43m,\u001b[49m\n\u001b[32m   3990\u001b[39m \u001b[43m    \u001b[49m\u001b[43mencoding\u001b[49m\u001b[43m=\u001b[49m\u001b[43mencoding\u001b[49m\u001b[43m,\u001b[49m\n\u001b[32m   3991\u001b[39m \u001b[43m    \u001b[49m\u001b[43merrors\u001b[49m\u001b[43m=\u001b[49m\u001b[43merrors\u001b[49m\u001b[43m,\u001b[49m\n\u001b[32m   3992\u001b[39m \u001b[43m    \u001b[49m\u001b[43mcompression\u001b[49m\u001b[43m=\u001b[49m\u001b[43mcompression\u001b[49m\u001b[43m,\u001b[49m\n\u001b[32m   3993\u001b[39m \u001b[43m    \u001b[49m\u001b[43mquoting\u001b[49m\u001b[43m=\u001b[49m\u001b[43mquoting\u001b[49m\u001b[43m,\u001b[49m\n\u001b[32m   3994\u001b[39m \u001b[43m    \u001b[49m\u001b[43mcolumns\u001b[49m\u001b[43m=\u001b[49m\u001b[43mcolumns\u001b[49m\u001b[43m,\u001b[49m\n\u001b[32m   3995\u001b[39m \u001b[43m    \u001b[49m\u001b[43mindex_label\u001b[49m\u001b[43m=\u001b[49m\u001b[43mindex_label\u001b[49m\u001b[43m,\u001b[49m\n\u001b[32m   3996\u001b[39m \u001b[43m    \u001b[49m\u001b[43mmode\u001b[49m\u001b[43m=\u001b[49m\u001b[43mmode\u001b[49m\u001b[43m,\u001b[49m\n\u001b[32m   3997\u001b[39m \u001b[43m    \u001b[49m\u001b[43mchunksize\u001b[49m\u001b[43m=\u001b[49m\u001b[43mchunksize\u001b[49m\u001b[43m,\u001b[49m\n\u001b[32m   3998\u001b[39m \u001b[43m    \u001b[49m\u001b[43mquotechar\u001b[49m\u001b[43m=\u001b[49m\u001b[43mquotechar\u001b[49m\u001b[43m,\u001b[49m\n\u001b[32m   3999\u001b[39m \u001b[43m    \u001b[49m\u001b[43mdate_format\u001b[49m\u001b[43m=\u001b[49m\u001b[43mdate_format\u001b[49m\u001b[43m,\u001b[49m\n\u001b[32m   4000\u001b[39m \u001b[43m    \u001b[49m\u001b[43mdoublequote\u001b[49m\u001b[43m=\u001b[49m\u001b[43mdoublequote\u001b[49m\u001b[43m,\u001b[49m\n\u001b[32m   4001\u001b[39m \u001b[43m    \u001b[49m\u001b[43mescapechar\u001b[49m\u001b[43m=\u001b[49m\u001b[43mescapechar\u001b[49m\u001b[43m,\u001b[49m\n\u001b[32m   4002\u001b[39m \u001b[43m    \u001b[49m\u001b[43mstorage_options\u001b[49m\u001b[43m=\u001b[49m\u001b[43mstorage_options\u001b[49m\u001b[43m,\u001b[49m\n\u001b[32m   4003\u001b[39m \u001b[43m\u001b[49m\u001b[43m)\u001b[49m\n",
            "\u001b[36mFile \u001b[39m\u001b[32mc:\\Users\\jianb\\Documents\\GitHub\\tool-wear-prediction\\.venv\\Lib\\site-packages\\pandas\\io\\formats\\format.py:1014\u001b[39m, in \u001b[36mDataFrameRenderer.to_csv\u001b[39m\u001b[34m(self, path_or_buf, encoding, sep, columns, index_label, mode, compression, quoting, quotechar, lineterminator, chunksize, date_format, doublequote, escapechar, errors, storage_options)\u001b[39m\n\u001b[32m    993\u001b[39m     created_buffer = \u001b[38;5;28;01mFalse\u001b[39;00m\n\u001b[32m    995\u001b[39m csv_formatter = CSVFormatter(\n\u001b[32m    996\u001b[39m     path_or_buf=path_or_buf,\n\u001b[32m    997\u001b[39m     lineterminator=lineterminator,\n\u001b[32m   (...)\u001b[39m\u001b[32m   1012\u001b[39m     formatter=\u001b[38;5;28mself\u001b[39m.fmt,\n\u001b[32m   1013\u001b[39m )\n\u001b[32m-> \u001b[39m\u001b[32m1014\u001b[39m \u001b[43mcsv_formatter\u001b[49m\u001b[43m.\u001b[49m\u001b[43msave\u001b[49m\u001b[43m(\u001b[49m\u001b[43m)\u001b[49m\n\u001b[32m   1016\u001b[39m \u001b[38;5;28;01mif\u001b[39;00m created_buffer:\n\u001b[32m   1017\u001b[39m     \u001b[38;5;28;01massert\u001b[39;00m \u001b[38;5;28misinstance\u001b[39m(path_or_buf, StringIO)\n",
            "\u001b[36mFile \u001b[39m\u001b[32mc:\\Users\\jianb\\Documents\\GitHub\\tool-wear-prediction\\.venv\\Lib\\site-packages\\pandas\\io\\formats\\csvs.py:251\u001b[39m, in \u001b[36mCSVFormatter.save\u001b[39m\u001b[34m(self)\u001b[39m\n\u001b[32m    247\u001b[39m \u001b[38;5;250m\u001b[39m\u001b[33;03m\"\"\"\u001b[39;00m\n\u001b[32m    248\u001b[39m \u001b[33;03mCreate the writer & save.\u001b[39;00m\n\u001b[32m    249\u001b[39m \u001b[33;03m\"\"\"\u001b[39;00m\n\u001b[32m    250\u001b[39m \u001b[38;5;66;03m# apply compression and byte/text conversion\u001b[39;00m\n\u001b[32m--> \u001b[39m\u001b[32m251\u001b[39m \u001b[38;5;28;01mwith\u001b[39;00m \u001b[43mget_handle\u001b[49m\u001b[43m(\u001b[49m\n\u001b[32m    252\u001b[39m \u001b[43m    \u001b[49m\u001b[38;5;28;43mself\u001b[39;49m\u001b[43m.\u001b[49m\u001b[43mfilepath_or_buffer\u001b[49m\u001b[43m,\u001b[49m\n\u001b[32m    253\u001b[39m \u001b[43m    \u001b[49m\u001b[38;5;28;43mself\u001b[39;49m\u001b[43m.\u001b[49m\u001b[43mmode\u001b[49m\u001b[43m,\u001b[49m\n\u001b[32m    254\u001b[39m \u001b[43m    \u001b[49m\u001b[43mencoding\u001b[49m\u001b[43m=\u001b[49m\u001b[38;5;28;43mself\u001b[39;49m\u001b[43m.\u001b[49m\u001b[43mencoding\u001b[49m\u001b[43m,\u001b[49m\n\u001b[32m    255\u001b[39m \u001b[43m    \u001b[49m\u001b[43merrors\u001b[49m\u001b[43m=\u001b[49m\u001b[38;5;28;43mself\u001b[39;49m\u001b[43m.\u001b[49m\u001b[43merrors\u001b[49m\u001b[43m,\u001b[49m\n\u001b[32m    256\u001b[39m \u001b[43m    \u001b[49m\u001b[43mcompression\u001b[49m\u001b[43m=\u001b[49m\u001b[38;5;28;43mself\u001b[39;49m\u001b[43m.\u001b[49m\u001b[43mcompression\u001b[49m\u001b[43m,\u001b[49m\n\u001b[32m    257\u001b[39m \u001b[43m    \u001b[49m\u001b[43mstorage_options\u001b[49m\u001b[43m=\u001b[49m\u001b[38;5;28;43mself\u001b[39;49m\u001b[43m.\u001b[49m\u001b[43mstorage_options\u001b[49m\u001b[43m,\u001b[49m\n\u001b[32m    258\u001b[39m \u001b[43m\u001b[49m\u001b[43m)\u001b[49m \u001b[38;5;28;01mas\u001b[39;00m handles:\n\u001b[32m    259\u001b[39m     \u001b[38;5;66;03m# Note: self.encoding is irrelevant here\u001b[39;00m\n\u001b[32m    260\u001b[39m     \u001b[38;5;28mself\u001b[39m.writer = csvlib.writer(\n\u001b[32m    261\u001b[39m         handles.handle,\n\u001b[32m    262\u001b[39m         lineterminator=\u001b[38;5;28mself\u001b[39m.lineterminator,\n\u001b[32m   (...)\u001b[39m\u001b[32m    267\u001b[39m         quotechar=\u001b[38;5;28mself\u001b[39m.quotechar,\n\u001b[32m    268\u001b[39m     )\n\u001b[32m    270\u001b[39m     \u001b[38;5;28mself\u001b[39m._save()\n",
            "\u001b[36mFile \u001b[39m\u001b[32mc:\\Users\\jianb\\Documents\\GitHub\\tool-wear-prediction\\.venv\\Lib\\site-packages\\pandas\\io\\common.py:749\u001b[39m, in \u001b[36mget_handle\u001b[39m\u001b[34m(path_or_buf, mode, encoding, compression, memory_map, is_text, errors, storage_options)\u001b[39m\n\u001b[32m    747\u001b[39m \u001b[38;5;66;03m# Only for write methods\u001b[39;00m\n\u001b[32m    748\u001b[39m \u001b[38;5;28;01mif\u001b[39;00m \u001b[33m\"\u001b[39m\u001b[33mr\u001b[39m\u001b[33m\"\u001b[39m \u001b[38;5;129;01mnot\u001b[39;00m \u001b[38;5;129;01min\u001b[39;00m mode \u001b[38;5;129;01mand\u001b[39;00m is_path:\n\u001b[32m--> \u001b[39m\u001b[32m749\u001b[39m     \u001b[43mcheck_parent_directory\u001b[49m\u001b[43m(\u001b[49m\u001b[38;5;28;43mstr\u001b[39;49m\u001b[43m(\u001b[49m\u001b[43mhandle\u001b[49m\u001b[43m)\u001b[49m\u001b[43m)\u001b[49m\n\u001b[32m    751\u001b[39m \u001b[38;5;28;01mif\u001b[39;00m compression:\n\u001b[32m    752\u001b[39m     \u001b[38;5;28;01mif\u001b[39;00m compression != \u001b[33m\"\u001b[39m\u001b[33mzstd\u001b[39m\u001b[33m\"\u001b[39m:\n\u001b[32m    753\u001b[39m         \u001b[38;5;66;03m# compression libraries do not like an explicit text-mode\u001b[39;00m\n",
            "\u001b[36mFile \u001b[39m\u001b[32mc:\\Users\\jianb\\Documents\\GitHub\\tool-wear-prediction\\.venv\\Lib\\site-packages\\pandas\\io\\common.py:616\u001b[39m, in \u001b[36mcheck_parent_directory\u001b[39m\u001b[34m(path)\u001b[39m\n\u001b[32m    614\u001b[39m parent = Path(path).parent\n\u001b[32m    615\u001b[39m \u001b[38;5;28;01mif\u001b[39;00m \u001b[38;5;129;01mnot\u001b[39;00m parent.is_dir():\n\u001b[32m--> \u001b[39m\u001b[32m616\u001b[39m     \u001b[38;5;28;01mraise\u001b[39;00m \u001b[38;5;167;01mOSError\u001b[39;00m(\u001b[33mrf\u001b[39m\u001b[33m\"\u001b[39m\u001b[33mCannot save file into a non-existent directory: \u001b[39m\u001b[33m'\u001b[39m\u001b[38;5;132;01m{\u001b[39;00mparent\u001b[38;5;132;01m}\u001b[39;00m\u001b[33m'\u001b[39m\u001b[33m\"\u001b[39m)\n",
            "\u001b[31mOSError\u001b[39m: Cannot save file into a non-existent directory: 'data\\processed'"
          ]
        }
      ],
      "source": [
        "df.to_csv('data/processed/cleaned.csv', index=False)"
      ]
    }
  ],
  "metadata": {
    "kernelspec": {
      "display_name": ".venv",
      "language": "python",
      "name": "python3"
    },
    "language_info": {
      "codemirror_mode": {
        "name": "ipython",
        "version": 3
      },
      "file_extension": ".py",
      "mimetype": "text/x-python",
      "name": "python",
      "nbconvert_exporter": "python",
      "pygments_lexer": "ipython3",
      "version": "3.13.4"
    }
  },
  "nbformat": 4,
  "nbformat_minor": 2
}
