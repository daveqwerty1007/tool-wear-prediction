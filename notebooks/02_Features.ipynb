{
"cells": [
 {
  "cell_type": "markdown",
  "metadata": {},
  "source": [
   "# Feature Exploration & Prep\n",
   "A place to explore feature engineering ideas."
  ]
 },
 {
  "cell_type": "code",
  "execution_count": null,
  "metadata": {},
  "outputs": [],
  "source": [
   "import sys\n",
   "import os\n",
   "sys.path.append(os.path.abspath(os.path.join(os.getcwd(), '..')))"
  ]
 },
  {
   "cell_type": "code",
   "metadata": {},
   "execution_count": null,
   "outputs": [],
   "source": [
    "import pandas as pd\n",
    "from src.data_loader import load_vicomtech_data"
   ]
  },
  {
   "cell_type": "code",
   "metadata": {},
   "execution_count": null,
   "outputs": [],
   "source": [
    "df = load_vicomtech_data(selected_only=False)\n",
    "df.head()"
   ]
  },
  {
   "cell_type": "code",
   "metadata": {},
   "execution_count": null,
   "outputs": [],
   "source": [
    "from sklearn.preprocessing import StandardScaler\n",
    "numeric = df.select_dtypes(include='number')\n",
    "scaler = StandardScaler()\n",
    "df[numeric.columns] = scaler.fit_transform(numeric)"
   ]
  },
  {
   "cell_type": "code",
   "metadata": {},
   "execution_count": null,
   "outputs": [],
   "source": [
    "df['force_ratio'] = df['cutting_force_max'] / df['cutting_force_rms']\n",
    "df['acoustic_mean'] = df[['acoustic_rms', 'acoustic_peak']].mean(axis=1)\n",
    "df['force_diff'] = df['cutting_force_max'] - df['cutting_force_rms']\n",
    "df['acoustic_diff'] = df['acoustic_peak'] - df['acoustic_rms']\n",
    "df['acoustic_to_force'] = df['acoustic_peak'] / df['cutting_force_max']"
   ]
  },
  {
   "cell_type": "code",
   "metadata": {},
   "execution_count": null,
   "outputs": [],
   "source": [
    "df.to_csv('data/processed/cleaned.csv', index=False)"
   ]
  }
 ],
 "metadata": {
  "kernelspec": {
   "display_name": "Python 3",
   "language": "python",
   "name": "python3"
  },
  "language_info": {
   "name": "python",
   "version": "3.11"
  }
 },
 "nbformat": 4,
 "nbformat_minor": 2
}
