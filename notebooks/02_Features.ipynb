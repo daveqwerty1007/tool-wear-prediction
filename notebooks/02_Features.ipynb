{
  "cells": [
    {
      "cell_type": "markdown",
      "metadata": {},
      "source": [
        "# Feature Exploration & Prep\n",
        "A place to explore feature engineering ideas."
      ]
    },
    {
      "cell_type": "code",
      "metadata": {},
      "execution_count": null,
      "outputs": [],
      "source": [
        "import pandas as pd\n",
        "from src.data_loader import load_vicomtech_data"
      ]
    },
    {
      "cell_type": "code",
      "metadata": {},
      "execution_count": null,
      "outputs": [],
      "source": [
        "# TODO: add feature engineering steps\n",
        "df = load_vicomtech_data(selected_only=False)\n",
        "df.head()"
      ]
    },
    {
      "cell_type": "code",
      "metadata": {},
      "execution_count": null,
      "outputs": [],
      "source": [
        "# If columns aren't renamed by the loader, fix them here\n",
        "if 'flank_wear' not in df.columns:\n",
        "    rename_map = {\n",
        "        'Vb': 'flank_wear',\n",
        "        'AE_RMS': 'acoustic_rms',\n",
        "        'AE_MAX': 'acoustic_peak',\n",
        "        'F_c_RMS': 'cutting_force_rms',\n",
        "        'F_c_MAX': 'cutting_force_max',\n",
        "        'Tool': 'tool_id',\n",
        "        'ToolID': 'tool_id'\n",
        "    }\n",
        "    df.rename(columns={k: v for k, v in rename_map.items() if k in df.columns}, inplace=True)\n"
      ]
    },
    {
      "cell_type": "markdown",
      "metadata": {},
      "source": [
        "## Normalize / scale values"
      ]
    },
    {
      "cell_type": "code",
      "metadata": {},
      "execution_count": null,
      "outputs": [],
      "source": [
        "from sklearn.preprocessing import StandardScaler\n",
        "df = load_vicomtech_data(selected_only=False)\n",
        "numeric = df.select_dtypes(include='number')\n",
        "scaler = StandardScaler()\n",
        "df[numeric.columns] = scaler.fit_transform(numeric)"
      ]
    },
    {
      "cell_type": "markdown",
      "metadata": {},
      "source": [
        "## Create new features"
      ]
    },
    {
      "cell_type": "code",
      "metadata": {},
      "execution_count": null,
      "outputs": [],
      "source": [
        "df['force_ratio'] = df['cutting_force_max'] / df['cutting_force_rms']\n",
        "df['acoustic_mean'] = df[['acoustic_rms', 'acoustic_peak']].mean(axis=1)"
      ]
    },
    {
      "cell_type": "markdown",
      "metadata": {},
      "source": [
        "## Drop redundant columns"
      ]
    },
    {
      "cell_type": "code",
      "metadata": {},
      "execution_count": null,
      "outputs": [],
      "source": [
        "df = df.drop(columns=['tool_id'])"
      ]
    },
    {
      "cell_type": "markdown",
      "metadata": {},
      "source": [
        "## Save cleaned data"
      ]
    },
    {
      "cell_type": "code",
      "metadata": {},
      "execution_count": null,
      "outputs": [],
      "source": [
        "df.to_csv('data/processed/cleaned.csv', index=False)"
      ]
    }
  ],
  "metadata": {
    "kernelspec": {
      "display_name": "Python 3",
      "language": "python",
      "name": "python3"
    },
    "language_info": {
      "name": "python",
      "version": "3.11"
    }
  },
  "nbformat": 4,
  "nbformat_minor": 2
}
