{
 "cells": [
  {
   "cell_type": "markdown",
   "metadata": {},
   "source": [
    "# Modeling\n",
    "Train classification or regression models to predict tool wear."
   ]
  },
  {
   "cell_type": "code",
   "metadata": {},
   "execution_count": null,
   "outputs": [],
   "source": [
    "import pandas as pd\n",
    "from sklearn.model_selection import train_test_split\n",
    "from sklearn.ensemble import RandomForestClassifier\n",
    "from sklearn.linear_model import Ridge\n",
    "from sklearn.metrics import classification_report, mean_squared_error\n",
    "from src.data_loader import load_vicomtech_data"
   ]
  },
  {
   "cell_type": "code",
   "metadata": {},
   "execution_count": null,
   "outputs": [],
   "source": [
    "df = load_vicomtech_data(selected_only=True)\n",
    "if 'flank_wear' not in df.columns:\n",
    "    rename_map = {\n",
    "        'Vb': 'flank_wear',\n",
    "        'AE_RMS': 'acoustic_rms',\n",
    "        'AE_MAX': 'acoustic_peak',\n",
    "        'F_c_RMS': 'cutting_force_rms',\n",
    "        'F_c_MAX': 'cutting_force_max',\n",
    "        'Tool': 'tool_id',\n",
    "        'ToolID': 'tool_id'\n",
    "    }\n",
    "    df.rename(columns={k: v for k, v in rename_map.items() if k in df.columns}, inplace=True)\n",
    "X = df.drop('flank_wear', axis=1)\n",
    "y = df['flank_wear']"
   ]
  },
  {
   "cell_type": "code",
   "metadata": {},
   "execution_count": null,
   "outputs": [],
   "source": [
    "y_cls = (y > y.median()).astype(int)\n",
    "X_train, X_test, y_train_cls, y_test_cls = train_test_split(X, y_cls, test_size=0.2, random_state=0)\n",
    "clf = RandomForestClassifier(n_estimators=100, random_state=0)\n",
    "clf.fit(X_train, y_train_cls)\n",
    "pred_cls = clf.predict(X_test)\n",
    "print(classification_report(y_test_cls, pred_cls))"
   ]
  },
  {
   "cell_type": "code",
   "metadata": {},
   "execution_count": null,
   "outputs": [],
   "source": [
    "X_train_r, X_test_r, y_train_r, y_test_r = train_test_split(X, y, test_size=0.2, random_state=0)\n",
    "reg = Ridge(alpha=1.0)\n",
    "reg.fit(X_train_r, y_train_r)\n",
    "pred_r = reg.predict(X_test_r)\n",
    "print('MSE:', mean_squared_error(y_test_r, pred_r))"
   ]
  }
 ],
 "metadata": {
  "kernelspec": {
   "display_name": "Python 3",
   "language": "python",
   "name": "python3"
  },
  "language_info": {
   "name": "python",
   "version": "3.11"
  }
 },
 "nbformat": 4,
 "nbformat_minor": 2
}