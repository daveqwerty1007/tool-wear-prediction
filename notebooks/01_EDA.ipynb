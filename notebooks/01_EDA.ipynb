{
  "cells": [
    {
      "cell_type": "markdown",
      "metadata": {},
      "source": [
        "# Basic EDA\n",
        "Load the Vicomtech dataset and look at a few quick stats."
      ]
    },
    {
      "cell_type": "code",
      "execution_count": 6,
      "metadata": {},
      "outputs": [],
      "source": [
        "import sys\n",
        "import os\n",
        "sys.path.append(os.path.abspath(os.path.join(os.getcwd(), '..')))"
      ]
    },
    {
      "cell_type": "code",
      "execution_count": 7,
      "metadata": {},
      "outputs": [],
      "source": [
        "import pandas as pd\n",
        "from IPython.display import display\n",
        "from src.data_loader import load_vicomtech_data"
      ]
    },
    {
      "cell_type": "code",
      "execution_count": 8,
      "metadata": {},
      "outputs": [
        {
          "name": "stdout",
          "output_type": "stream",
          "text": [
            "Data shape: (2054, 154)\n"
          ]
        },
        {
          "data": {
            "application/vnd.microsoft.datawrangler.viewer.v0+json": {
              "columns": [
                {
                  "name": "index",
                  "rawType": "int64",
                  "type": "integer"
                },
                {
                  "name": "ae_max",
                  "rawType": "float64",
                  "type": "float"
                },
                {
                  "name": "ae_kurt",
                  "rawType": "float64",
                  "type": "float"
                },
                {
                  "name": "ae_var",
                  "rawType": "float64",
                  "type": "float"
                },
                {
                  "name": "ae_rms",
                  "rawType": "float64",
                  "type": "float"
                },
                {
                  "name": "ae_c_0_1",
                  "rawType": "int64",
                  "type": "integer"
                },
                {
                  "name": "ae_c_0_15",
                  "rawType": "int64",
                  "type": "integer"
                },
                {
                  "name": "ae_cf",
                  "rawType": "float64",
                  "type": "float"
                },
                {
                  "name": "ax1_rms",
                  "rawType": "float64",
                  "type": "float"
                },
                {
                  "name": "ax1_sk",
                  "rawType": "float64",
                  "type": "float"
                },
                {
                  "name": "ax1_mean",
                  "rawType": "float64",
                  "type": "float"
                },
                {
                  "name": "ax1_max",
                  "rawType": "float64",
                  "type": "float"
                },
                {
                  "name": "ax1_kurt",
                  "rawType": "float64",
                  "type": "float"
                },
                {
                  "name": "ax2_rms",
                  "rawType": "float64",
                  "type": "float"
                },
                {
                  "name": "ax2_sk",
                  "rawType": "float64",
                  "type": "float"
                },
                {
                  "name": "ax2_mean",
                  "rawType": "float64",
                  "type": "float"
                },
                {
                  "name": "ax2_max",
                  "rawType": "float64",
                  "type": "float"
                },
                {
                  "name": "ax2_kurt",
                  "rawType": "float64",
                  "type": "float"
                },
                {
                  "name": "ay1_rms",
                  "rawType": "float64",
                  "type": "float"
                },
                {
                  "name": "ay1_sk",
                  "rawType": "float64",
                  "type": "float"
                },
                {
                  "name": "ay1_mean",
                  "rawType": "float64",
                  "type": "float"
                },
                {
                  "name": "ay1_max",
                  "rawType": "float64",
                  "type": "float"
                },
                {
                  "name": "ay1_kurt",
                  "rawType": "float64",
                  "type": "float"
                },
                {
                  "name": "ay2_rms",
                  "rawType": "float64",
                  "type": "float"
                },
                {
                  "name": "ay2_sk",
                  "rawType": "float64",
                  "type": "float"
                },
                {
                  "name": "ay2_mean",
                  "rawType": "float64",
                  "type": "float"
                },
                {
                  "name": "ay2_max",
                  "rawType": "float64",
                  "type": "float"
                },
                {
                  "name": "ay2_kurt",
                  "rawType": "float64",
                  "type": "float"
                },
                {
                  "name": "az1_rms",
                  "rawType": "float64",
                  "type": "float"
                },
                {
                  "name": "az1_sk",
                  "rawType": "float64",
                  "type": "float"
                },
                {
                  "name": "az1_mean",
                  "rawType": "float64",
                  "type": "float"
                },
                {
                  "name": "az1_max",
                  "rawType": "float64",
                  "type": "float"
                },
                {
                  "name": "az1_kurt",
                  "rawType": "float64",
                  "type": "float"
                },
                {
                  "name": "az2_rms",
                  "rawType": "float64",
                  "type": "float"
                },
                {
                  "name": "az2_sk",
                  "rawType": "float64",
                  "type": "float"
                },
                {
                  "name": "az2_mean",
                  "rawType": "float64",
                  "type": "float"
                },
                {
                  "name": "az2_max",
                  "rawType": "float64",
                  "type": "float"
                },
                {
                  "name": "az2_kurt",
                  "rawType": "float64",
                  "type": "float"
                },
                {
                  "name": "f_p_rms",
                  "rawType": "float64",
                  "type": "float"
                },
                {
                  "name": "f_p_sk",
                  "rawType": "float64",
                  "type": "float"
                },
                {
                  "name": "f_p_mean",
                  "rawType": "float64",
                  "type": "float"
                },
                {
                  "name": "f_p_max",
                  "rawType": "float64",
                  "type": "float"
                },
                {
                  "name": "f_p_kurt",
                  "rawType": "float64",
                  "type": "float"
                },
                {
                  "name": "f_f_rms",
                  "rawType": "float64",
                  "type": "float"
                },
                {
                  "name": "f_f_sk",
                  "rawType": "float64",
                  "type": "float"
                },
                {
                  "name": "f_f_mean",
                  "rawType": "float64",
                  "type": "float"
                },
                {
                  "name": "f_f_max",
                  "rawType": "float64",
                  "type": "float"
                },
                {
                  "name": "f_f_kurt",
                  "rawType": "float64",
                  "type": "float"
                },
                {
                  "name": "f_c_rms",
                  "rawType": "float64",
                  "type": "float"
                },
                {
                  "name": "f_c_sk",
                  "rawType": "float64",
                  "type": "float"
                },
                {
                  "name": "f_c_mean",
                  "rawType": "float64",
                  "type": "float"
                },
                {
                  "name": "f_c_max",
                  "rawType": "float64",
                  "type": "float"
                },
                {
                  "name": "f_c_kurt",
                  "rawType": "float64",
                  "type": "float"
                },
                {
                  "name": "iu_s_rms",
                  "rawType": "float64",
                  "type": "float"
                },
                {
                  "name": "iu_s_sk",
                  "rawType": "float64",
                  "type": "float"
                },
                {
                  "name": "iu_s_mean",
                  "rawType": "float64",
                  "type": "float"
                },
                {
                  "name": "iu_s_max",
                  "rawType": "float64",
                  "type": "float"
                },
                {
                  "name": "iu_s_kurt",
                  "rawType": "float64",
                  "type": "float"
                },
                {
                  "name": "iu_x_rms",
                  "rawType": "float64",
                  "type": "float"
                },
                {
                  "name": "iu_x_sk",
                  "rawType": "float64",
                  "type": "float"
                },
                {
                  "name": "iu_x_mean",
                  "rawType": "float64",
                  "type": "float"
                },
                {
                  "name": "iu_x_max",
                  "rawType": "float64",
                  "type": "float"
                },
                {
                  "name": "iu_x_kurt",
                  "rawType": "float64",
                  "type": "float"
                },
                {
                  "name": "iv_s_rms",
                  "rawType": "float64",
                  "type": "float"
                },
                {
                  "name": "iv_s_sk",
                  "rawType": "float64",
                  "type": "float"
                },
                {
                  "name": "iv_s_mean",
                  "rawType": "float64",
                  "type": "float"
                },
                {
                  "name": "iv_s_max",
                  "rawType": "float64",
                  "type": "float"
                },
                {
                  "name": "iv_s_kurt",
                  "rawType": "float64",
                  "type": "float"
                },
                {
                  "name": "iv_x_rms",
                  "rawType": "float64",
                  "type": "float"
                },
                {
                  "name": "iv_x_sk",
                  "rawType": "float64",
                  "type": "float"
                },
                {
                  "name": "iv_x_mean",
                  "rawType": "float64",
                  "type": "float"
                },
                {
                  "name": "iv_x_max",
                  "rawType": "float64",
                  "type": "float"
                },
                {
                  "name": "iv_x_kurt",
                  "rawType": "float64",
                  "type": "float"
                },
                {
                  "name": "micro_rms",
                  "rawType": "float64",
                  "type": "float"
                },
                {
                  "name": "micro_sk",
                  "rawType": "float64",
                  "type": "float"
                },
                {
                  "name": "micro_mean",
                  "rawType": "float64",
                  "type": "float"
                },
                {
                  "name": "micro_max",
                  "rawType": "float64",
                  "type": "float"
                },
                {
                  "name": "micro_kurt",
                  "rawType": "float64",
                  "type": "float"
                },
                {
                  "name": "vu_s_rms",
                  "rawType": "float64",
                  "type": "float"
                },
                {
                  "name": "vu_s_sk",
                  "rawType": "float64",
                  "type": "float"
                },
                {
                  "name": "vu_s_mean",
                  "rawType": "float64",
                  "type": "float"
                },
                {
                  "name": "vu_s_max",
                  "rawType": "float64",
                  "type": "float"
                },
                {
                  "name": "vu_s_kurt",
                  "rawType": "float64",
                  "type": "float"
                },
                {
                  "name": "vu_x_rms",
                  "rawType": "float64",
                  "type": "float"
                },
                {
                  "name": "vu_x_sk",
                  "rawType": "float64",
                  "type": "float"
                },
                {
                  "name": "vu_x_mean",
                  "rawType": "float64",
                  "type": "float"
                },
                {
                  "name": "vu_x_max",
                  "rawType": "float64",
                  "type": "float"
                },
                {
                  "name": "vu_x_kurt",
                  "rawType": "float64",
                  "type": "float"
                },
                {
                  "name": "vv_s_rms",
                  "rawType": "float64",
                  "type": "float"
                },
                {
                  "name": "vv_s_sk",
                  "rawType": "float64",
                  "type": "float"
                },
                {
                  "name": "vv_s_mean",
                  "rawType": "float64",
                  "type": "float"
                },
                {
                  "name": "vv_s_max",
                  "rawType": "float64",
                  "type": "float"
                },
                {
                  "name": "vv_s_kurt",
                  "rawType": "float64",
                  "type": "float"
                },
                {
                  "name": "vv_x_rms",
                  "rawType": "float64",
                  "type": "float"
                },
                {
                  "name": "vv_x_sk",
                  "rawType": "float64",
                  "type": "float"
                },
                {
                  "name": "vv_x_mean",
                  "rawType": "float64",
                  "type": "float"
                },
                {
                  "name": "vv_x_max",
                  "rawType": "float64",
                  "type": "float"
                },
                {
                  "name": "vv_x_kurt",
                  "rawType": "float64",
                  "type": "float"
                },
                {
                  "name": "vw_s_rms",
                  "rawType": "float64",
                  "type": "float"
                },
                {
                  "name": "vw_s_sk",
                  "rawType": "float64",
                  "type": "float"
                },
                {
                  "name": "vw_s_mean",
                  "rawType": "float64",
                  "type": "float"
                },
                {
                  "name": "vw_s_max",
                  "rawType": "float64",
                  "type": "float"
                },
                {
                  "name": "vw_s_kurt",
                  "rawType": "float64",
                  "type": "float"
                },
                {
                  "name": "vw_x_rms",
                  "rawType": "float64",
                  "type": "float"
                },
                {
                  "name": "vw_x_sk",
                  "rawType": "float64",
                  "type": "float"
                },
                {
                  "name": "vw_x_mean",
                  "rawType": "float64",
                  "type": "float"
                },
                {
                  "name": "vw_x_max",
                  "rawType": "float64",
                  "type": "float"
                },
                {
                  "name": "vw_x_kurt",
                  "rawType": "float64",
                  "type": "float"
                },
                {
                  "name": "tv50_s_rms",
                  "rawType": "float64",
                  "type": "float"
                },
                {
                  "name": "tv50_s_sk",
                  "rawType": "float64",
                  "type": "float"
                },
                {
                  "name": "tv50_s_mean",
                  "rawType": "float64",
                  "type": "float"
                },
                {
                  "name": "tv50_s_max",
                  "rawType": "int64",
                  "type": "integer"
                },
                {
                  "name": "tv50_s_kurt",
                  "rawType": "float64",
                  "type": "float"
                },
                {
                  "name": "tv51_s_rms",
                  "rawType": "float64",
                  "type": "float"
                },
                {
                  "name": "tv51_s_sk",
                  "rawType": "float64",
                  "type": "float"
                },
                {
                  "name": "tv51_s_mean",
                  "rawType": "float64",
                  "type": "float"
                },
                {
                  "name": "tv51_s_max",
                  "rawType": "int64",
                  "type": "integer"
                },
                {
                  "name": "tv51_s_kurt",
                  "rawType": "float64",
                  "type": "float"
                },
                {
                  "name": "tv2_s_rms",
                  "rawType": "float64",
                  "type": "float"
                },
                {
                  "name": "tv2_s_sk",
                  "rawType": "float64",
                  "type": "float"
                },
                {
                  "name": "tv2_s_mean",
                  "rawType": "float64",
                  "type": "float"
                },
                {
                  "name": "tv2_s_max",
                  "rawType": "int64",
                  "type": "integer"
                },
                {
                  "name": "tv2_s_kurt",
                  "rawType": "float64",
                  "type": "float"
                },
                {
                  "name": "tv2_x_rms",
                  "rawType": "float64",
                  "type": "float"
                },
                {
                  "name": "tv2_x_sk",
                  "rawType": "float64",
                  "type": "float"
                },
                {
                  "name": "tv2_x_mean",
                  "rawType": "float64",
                  "type": "float"
                },
                {
                  "name": "tv2_x_max",
                  "rawType": "int64",
                  "type": "integer"
                },
                {
                  "name": "tv2_x_kurt",
                  "rawType": "float64",
                  "type": "float"
                },
                {
                  "name": "tv2_z_rms",
                  "rawType": "float64",
                  "type": "float"
                },
                {
                  "name": "tv2_z_sk",
                  "rawType": "float64",
                  "type": "float"
                },
                {
                  "name": "tv2_z_mean",
                  "rawType": "float64",
                  "type": "float"
                },
                {
                  "name": "tv2_z_max",
                  "rawType": "int64",
                  "type": "integer"
                },
                {
                  "name": "tv2_z_kurt",
                  "rawType": "float64",
                  "type": "float"
                },
                {
                  "name": "cv3_s_rms",
                  "rawType": "float64",
                  "type": "float"
                },
                {
                  "name": "cv3_s_sk",
                  "rawType": "float64",
                  "type": "float"
                },
                {
                  "name": "cv3_s_mean",
                  "rawType": "float64",
                  "type": "float"
                },
                {
                  "name": "cv3_s_max",
                  "rawType": "int64",
                  "type": "integer"
                },
                {
                  "name": "cv3_s_kurt",
                  "rawType": "float64",
                  "type": "float"
                },
                {
                  "name": "cv3_x_rms",
                  "rawType": "float64",
                  "type": "float"
                },
                {
                  "name": "cv3_x_sk",
                  "rawType": "float64",
                  "type": "float"
                },
                {
                  "name": "cv3_x_mean",
                  "rawType": "float64",
                  "type": "float"
                },
                {
                  "name": "cv3_x_max",
                  "rawType": "int64",
                  "type": "integer"
                },
                {
                  "name": "cv3_x_kurt",
                  "rawType": "float64",
                  "type": "float"
                },
                {
                  "name": "cv3_z_rms",
                  "rawType": "float64",
                  "type": "float"
                },
                {
                  "name": "cv3_z_sk",
                  "rawType": "float64",
                  "type": "float"
                },
                {
                  "name": "cv3_z_mean",
                  "rawType": "float64",
                  "type": "float"
                },
                {
                  "name": "cv3_z_max",
                  "rawType": "int64",
                  "type": "integer"
                },
                {
                  "name": "cv3_z_kurt",
                  "rawType": "float64",
                  "type": "float"
                },
                {
                  "name": "con_sv2_s",
                  "rawType": "float64",
                  "type": "float"
                },
                {
                  "name": "con_sv2_x",
                  "rawType": "float64",
                  "type": "float"
                },
                {
                  "name": "con_sv2_z",
                  "rawType": "float64",
                  "type": "float"
                },
                {
                  "name": "con_g_freal",
                  "rawType": "float64",
                  "type": "float"
                },
                {
                  "name": "con_a_sreal_s",
                  "rawType": "float64",
                  "type": "float"
                },
                {
                  "name": "tool_id",
                  "rawType": "int64",
                  "type": "integer"
                },
                {
                  "name": "vb",
                  "rawType": "float64",
                  "type": "float"
                }
              ],
              "ref": "23baf297-21c6-4b18-b7a6-7746e47d5d20",
              "rows": [
                [
                  "0",
                  "0.203665",
                  "4.044778",
                  "0.000731",
                  "0.027032",
                  "2310",
                  "42",
                  "7.534122999999999",
                  "5.223148999999999",
                  "-0.124066",
                  "0.020679",
                  "23.002806",
                  "3.241069",
                  "3.3147620000000004",
                  "-0.497801",
                  "0.02157",
                  "17.343802",
                  "4.269443",
                  "5.768133",
                  "-0.071488",
                  "0.0198199999999999",
                  "28.612519",
                  "3.205841",
                  "0.001894",
                  "0.086012",
                  "-8.4e-05",
                  "0.008118",
                  "2.739763",
                  "8.598905",
                  "-0.02952",
                  "0.020761",
                  "37.481806",
                  "3.115971",
                  "3.293495",
                  "-0.518513",
                  "0.021003",
                  "16.142792",
                  "4.305382",
                  "179.29143100000002",
                  "0.145675",
                  "179.156894",
                  "226.621843",
                  "3.567908",
                  "364.824851",
                  "0.381207",
                  "364.747005",
                  "399.545547",
                  "2.767491",
                  "528.9955610000001",
                  "0.487983",
                  "528.644022",
                  "591.617515",
                  "2.277683",
                  "31.096758",
                  "-0.012418",
                  "-0.560576",
                  "90.666083",
                  "2.502913",
                  "0.046174",
                  "-0.745941",
                  "0.0105209999999999",
                  "0.144484",
                  "4.6354370000000005",
                  "32.568333",
                  "-0.003486",
                  "0.738408",
                  "104.291929",
                  "2.541931",
                  "0.658288",
                  "-0.568733",
                  "-0.653866",
                  "-0.470335",
                  "3.298252",
                  "0.472446",
                  "-0.086089",
                  "0.000459",
                  "1.832043",
                  "2.835476",
                  "265.149329",
                  "0.001307",
                  "-4.318571",
                  "423.863144",
                  "1.266426",
                  "198.767102",
                  "0.004075",
                  "1.493525",
                  "387.216957",
                  "2.056973",
                  "265.216925",
                  "-5.7e-05",
                  "-4.140633",
                  "426.926145",
                  "1.265181",
                  "198.945984",
                  "-0.00159",
                  "-1.098548",
                  "384.956677",
                  "2.05655",
                  "264.137967",
                  "0.001078",
                  "-4.124829",
                  "419.311903",
                  "1.261658",
                  "198.103124",
                  "0.002968",
                  "0.276729",
                  "384.282558",
                  "2.054985",
                  "564.990237",
                  "0.233906",
                  "564.968",
                  "578",
                  "2.521053",
                  "6876.209322",
                  "0.105041",
                  "6872.292",
                  "7438",
                  "2.617511",
                  "121.16861000000002",
                  "0.226091",
                  "116.28",
                  "175",
                  "1.543166",
                  "135.922169",
                  "-0.199208",
                  "135.892",
                  "144",
                  "4.399709",
                  "98.434181",
                  "-0.236132",
                  "92.976",
                  "161",
                  "2.3152790000000003",
                  "285.605637",
                  "-0.013604",
                  "283.988",
                  "346",
                  "1.711727",
                  "5.1431510000000005",
                  "2.187505",
                  "5.132",
                  "6",
                  "5.807574",
                  "14.361337",
                  "-0.225628",
                  "13.512",
                  "24",
                  "2.318726",
                  "23939045.05",
                  "1370.871415",
                  "233815.5871",
                  "2260.913532",
                  "8155288.123",
                  "5",
                  "0.0"
                ],
                [
                  "1",
                  "0.194863",
                  "3.991339",
                  "0.000728",
                  "0.0269769999999999",
                  "2078",
                  "33",
                  "7.223210000000001",
                  "5.12717",
                  "-0.12761",
                  "-0.028392",
                  "22.835884",
                  "3.2517080000000003",
                  "3.327088",
                  "-0.544798",
                  "-0.029487",
                  "14.701156",
                  "4.270987",
                  "5.963798000000001",
                  "-0.058922",
                  "-0.028363",
                  "24.971301",
                  "3.176833",
                  "0.001675",
                  "-0.001659",
                  "5.9e-05",
                  "0.006742",
                  "2.443935",
                  "8.882796",
                  "-0.027054",
                  "-0.029071",
                  "43.501534",
                  "3.099619",
                  "3.304311",
                  "-0.576438",
                  "-0.028921",
                  "14.806293",
                  "4.333573",
                  "180.821527",
                  "0.157397",
                  "180.702978",
                  "209.403223",
                  "3.181353",
                  "364.367006",
                  "0.332485",
                  "364.297951",
                  "391.686244",
                  "2.536629",
                  "529.0994509999999",
                  "0.5106609999999999",
                  "528.7639389999999",
                  "587.963163",
                  "2.293927",
                  "31.096908000000003",
                  "-0.013267",
                  "-0.349896",
                  "94.877778",
                  "2.500054",
                  "0.045513",
                  "-0.735121",
                  "0.007637",
                  "0.152636",
                  "4.626998",
                  "32.592741",
                  "-0.002769",
                  "0.5383140000000001",
                  "105.086019",
                  "2.546171",
                  "0.474759",
                  "-0.722646",
                  "-0.469479",
                  "-0.299764",
                  "3.689187",
                  "0.450157",
                  "0.018537",
                  "-0.00138",
                  "1.610455",
                  "2.763591",
                  "265.687589",
                  "0.00025",
                  "-3.135682",
                  "423.495915",
                  "1.265606",
                  "199.116145",
                  "0.003685",
                  "1.075177",
                  "388.078619",
                  "2.056776",
                  "265.651513",
                  "-8.4e-05",
                  "-2.980061",
                  "427.413622",
                  "1.26462",
                  "199.30695",
                  "-0.001825",
                  "-0.786145",
                  "386.699055",
                  "2.057225",
                  "264.60205",
                  "0.000428",
                  "-2.989713",
                  "421.391306",
                  "1.262966",
                  "198.46429",
                  "0.002625",
                  "0.201656",
                  "385.137134",
                  "2.055281",
                  "563.218164",
                  "-0.112515",
                  "563.188",
                  "578",
                  "2.197077",
                  "6894.818638",
                  "0.14047",
                  "6890.688",
                  "7597",
                  "2.839279",
                  "121.13244",
                  "0.1895119999999999",
                  "116.276",
                  "182",
                  "1.5693780000000002",
                  "135.48595500000002",
                  "-0.602942",
                  "135.452",
                  "141",
                  "3.784948",
                  "97.076836",
                  "-0.253545",
                  "91.688",
                  "153",
                  "2.228415",
                  "286.996279",
                  "-0.050802",
                  "285.376",
                  "336",
                  "1.725812",
                  "5.117421",
                  "2.541205",
                  "5.108",
                  "6",
                  "7.49361",
                  "14.121756",
                  "-0.253609",
                  "13.28",
                  "22",
                  "2.242422",
                  "23936873.29",
                  "1503.875567",
                  "233795.071899",
                  "2263.317532",
                  "8153697.292",
                  "5",
                  "2.172"
                ],
                [
                  "2",
                  "0.203046",
                  "4.00736",
                  "0.000717",
                  "0.026781",
                  "2019",
                  "39",
                  "7.581602",
                  "5.151557",
                  "-0.13291",
                  "0.017371",
                  "23.017018",
                  "3.293766",
                  "3.334376",
                  "-0.560694",
                  "0.0172189999999999",
                  "17.147013",
                  "4.489304",
                  "5.926833",
                  "-0.064978",
                  "0.016878",
                  "23.446909",
                  "3.248374",
                  "0.001647",
                  "-0.011354",
                  "1.8e-05",
                  "0.005825",
                  "2.420148",
                  "8.773203",
                  "0.000436",
                  "0.0180199999999999",
                  "40.025475",
                  "3.206396",
                  "3.297796",
                  "-0.588344",
                  "0.016794",
                  "17.171936",
                  "4.569516",
                  "180.295631",
                  "0.221373",
                  "180.17383",
                  "219.169002",
                  "3.499563",
                  "364.138461",
                  "0.41793",
                  "364.069472",
                  "399.927012",
                  "2.967898",
                  "526.579131",
                  "0.520437",
                  "526.2258099999999",
                  "592.031244",
                  "2.430568",
                  "31.090077",
                  "-0.010942",
                  "-0.21389",
                  "91.445031",
                  "2.497164",
                  "0.045043",
                  "-0.73709",
                  "0.005098",
                  "0.154333",
                  "4.62407",
                  "32.589343",
                  "-0.007543",
                  "0.387317",
                  "102.282022",
                  "2.551484",
                  "0.317633",
                  "-0.881892",
                  "-0.310776",
                  "-0.15868",
                  "4.076586",
                  "0.465413",
                  "-0.012372",
                  "-0.001058",
                  "1.708902",
                  "2.742221",
                  "265.363811",
                  "0.000889",
                  "-2.052998",
                  "428.460213",
                  "1.266312",
                  "198.926147",
                  "0.003818",
                  "0.721168",
                  "386.73657",
                  "2.056707",
                  "265.361733",
                  "0.000401",
                  "-1.921567",
                  "426.779514",
                  "1.265627",
                  "199.085038",
                  "-0.001747",
                  "-0.512166",
                  "385.655701",
                  "2.056459",
                  "264.312427",
                  "0.001702",
                  "-1.973822",
                  "423.929157",
                  "1.26207",
                  "198.262022",
                  "0.002764",
                  "0.143215",
                  "384.618904",
                  "2.054854",
                  "563.9549910000001",
                  "0.222039",
                  "563.896",
                  "585",
                  "2.256543",
                  "6887.742695999999",
                  "0.084139",
                  "6883.332",
                  "7519",
                  "2.737694",
                  "121.116968",
                  "0.206419",
                  "116.008",
                  "175",
                  "1.555565",
                  "135.575204",
                  "0.214246",
                  "135.548",
                  "144",
                  "3.328049",
                  "96.555021",
                  "-0.265244",
                  "90.976",
                  "156",
                  "2.358543",
                  "287.21165",
                  "-0.009025",
                  "285.42",
                  "344",
                  "1.69979",
                  "5.100196",
                  "2.840346",
                  "5.092",
                  "6",
                  "9.116437",
                  "14.107870000000002",
                  "-0.272631",
                  "13.24",
                  "23",
                  "2.398679",
                  "23936274.49",
                  "1417.811116",
                  "234333.2511",
                  "2266.488887",
                  "8156394.185985001",
                  "5",
                  "4.345"
                ],
                [
                  "3",
                  "0.2064619999999999",
                  "4.007104",
                  "0.000716",
                  "0.026767",
                  "2105",
                  "32",
                  "7.71329",
                  "5.12969",
                  "-0.12292",
                  "-0.008704",
                  "20.321064",
                  "3.177388",
                  "3.269763",
                  "-0.521749",
                  "-0.008815",
                  "13.675718",
                  "4.342072",
                  "5.91735",
                  "-0.055884",
                  "-0.008037",
                  "28.16004",
                  "3.194905",
                  "0.001651",
                  "-0.011479",
                  "4e-06",
                  "0.006289",
                  "2.427128",
                  "8.819289999999999",
                  "-0.011402",
                  "-0.008309",
                  "40.913728000000006",
                  "3.127899",
                  "3.23208",
                  "-0.553998",
                  "-0.008523",
                  "13.733713",
                  "4.395048",
                  "181.238803",
                  "0.05955",
                  "181.120726",
                  "209.552882",
                  "3.274235",
                  "365.883228",
                  "0.292417",
                  "365.820534",
                  "391.517874",
                  "2.567868",
                  "529.3396339999999",
                  "0.406569",
                  "528.997033",
                  "590.542949",
                  "2.170845",
                  "31.113269",
                  "-0.007657",
                  "-0.161289",
                  "89.87594",
                  "2.497012",
                  "0.044932",
                  "-0.729238",
                  "0.002842",
                  "0.1469589999999999",
                  "4.626869999999999",
                  "32.585608",
                  "-0.00794",
                  "0.309277",
                  "103.916594",
                  "2.545919",
                  "0.186336",
                  "-1.053343",
                  "-0.175882",
                  "-0.023771",
                  "4.509646",
                  "0.443745",
                  "-0.030427",
                  "0.000139",
                  "1.485202",
                  "2.667995",
                  "264.939496",
                  "0.000589",
                  "-1.242831",
                  "427.514366",
                  "1.266185",
                  "198.598263",
                  "0.003828",
                  "0.389151",
                  "388.561583",
                  "2.057017",
                  "264.960558",
                  "-0.00031",
                  "-1.125001",
                  "425.561089",
                  "1.266007",
                  "198.774753",
                  "-0.001761",
                  "-0.309749",
                  "384.21279",
                  "2.056548",
                  "263.895201",
                  "0.001063",
                  "-1.19831",
                  "420.6745",
                  "1.261445",
                  "197.937977",
                  "0.002754",
                  "0.061334",
                  "383.025971",
                  "2.054798",
                  "564.4673809999999",
                  "-0.055519",
                  "564.448",
                  "576",
                  "2.538553",
                  "6885.571426",
                  "-0.227105",
                  "6881.3",
                  "7451",
                  "2.710171",
                  "122.087035",
                  "0.183652",
                  "116.844",
                  "177",
                  "1.515582",
                  "135.608599",
                  "-0.278457",
                  "135.572",
                  "144",
                  "3.765492",
                  "96.593023",
                  "-0.200197",
                  "91.044",
                  "157",
                  "2.239719",
                  "285.671567",
                  "0.000725",
                  "284.02",
                  "339",
                  "1.612254",
                  "5.130302",
                  "2.352879",
                  "5.12",
                  "6",
                  "6.564493",
                  "14.097659",
                  "-0.204799",
                  "13.24",
                  "23",
                  "2.215272",
                  "23941252.24",
                  "1357.918489",
                  "234497.141218",
                  "2267.637296",
                  "8155210.292",
                  "5",
                  "6.517"
                ],
                [
                  "4",
                  "0.197119",
                  "4.016845",
                  "0.000714",
                  "0.026724",
                  "2053",
                  "29",
                  "7.376236",
                  "5.205071",
                  "-0.131262",
                  "-0.01824",
                  "24.334465",
                  "3.248465",
                  "3.284127",
                  "-0.517848",
                  "-0.017675",
                  "17.0312",
                  "4.236618",
                  "6.202478",
                  "-0.035084",
                  "-0.017127",
                  "29.346255",
                  "3.1420220000000003",
                  "0.001645",
                  "-0.01201",
                  "2e-06",
                  "0.005856",
                  "2.404637",
                  "9.123074",
                  "-0.025049",
                  "-0.019341",
                  "40.124793",
                  "3.107081",
                  "3.252686",
                  "-0.545661",
                  "-0.017449",
                  "17.442288",
                  "4.276789",
                  "181.39011",
                  "0.161642",
                  "181.276698",
                  "220.136142",
                  "3.388092",
                  "366.299272",
                  "0.352032",
                  "366.242733",
                  "393.421815",
                  "2.730352",
                  "528.335594",
                  "0.508971",
                  "528.024294",
                  "587.2996929999999",
                  "2.342751",
                  "31.08433",
                  "-0.006538",
                  "-0.123898",
                  "91.611032",
                  "2.502629",
                  "0.044837",
                  "-0.74014",
                  "0.00084",
                  "0.142141",
                  "4.63645",
                  "32.587728000000006",
                  "-0.004009",
                  "0.15908",
                  "101.11006",
                  "2.544797",
                  "0.08576",
                  "-1.23068",
                  "-0.062687",
                  "0.086111",
                  "4.948891000000001",
                  "0.460958",
                  "-0.043606",
                  "0.000676",
                  "1.715602",
                  "2.783551",
                  "264.85254100000003",
                  "0.000538",
                  "-0.406239",
                  "426.895966",
                  "1.266131",
                  "198.522804",
                  "0.003778",
                  "0.160743",
                  "384.832478",
                  "2.056744",
                  "264.85631",
                  "-0.000126",
                  "-0.327624",
                  "429.406082",
                  "1.2652",
                  "198.69976",
                  "-0.00193",
                  "-0.088482",
                  "385.262875",
                  "2.056673",
                  "263.827715",
                  "0.000586",
                  "-0.407313",
                  "422.455399",
                  "1.261508",
                  "197.856413",
                  "0.002612",
                  "0.042881",
                  "382.275512",
                  "2.05495",
                  "561.596147",
                  "-0.015482",
                  "561.56",
                  "578",
                  "2.382177",
                  "6907.077239",
                  "-0.248704",
                  "6902.68",
                  "7520",
                  "2.796112",
                  "122.283212",
                  "0.153406",
                  "116.952",
                  "180",
                  "1.509258",
                  "135.808836",
                  "-0.565902",
                  "135.776",
                  "143",
                  "5.255935",
                  "94.724696",
                  "-0.292433",
                  "89.168",
                  "146",
                  "2.279217",
                  "287.209638",
                  "-0.112839",
                  "285.488",
                  "340",
                  "1.638276",
                  "5.130302",
                  "2.352879",
                  "5.12",
                  "6",
                  "6.564493",
                  "13.802464",
                  "-0.29112",
                  "12.948",
                  "21",
                  "2.267548",
                  "23936992.41",
                  "1388.865576",
                  "234292.008305",
                  "2268.203688",
                  "8154651.786110001",
                  "5",
                  "8.69"
                ]
              ],
              "shape": {
                "columns": 154,
                "rows": 5
              }
            },
            "text/html": [
              "<div>\n",
              "<style scoped>\n",
              "    .dataframe tbody tr th:only-of-type {\n",
              "        vertical-align: middle;\n",
              "    }\n",
              "\n",
              "    .dataframe tbody tr th {\n",
              "        vertical-align: top;\n",
              "    }\n",
              "\n",
              "    .dataframe thead th {\n",
              "        text-align: right;\n",
              "    }\n",
              "</style>\n",
              "<table border=\"1\" class=\"dataframe\">\n",
              "  <thead>\n",
              "    <tr style=\"text-align: right;\">\n",
              "      <th></th>\n",
              "      <th>ae_max</th>\n",
              "      <th>ae_kurt</th>\n",
              "      <th>ae_var</th>\n",
              "      <th>ae_rms</th>\n",
              "      <th>ae_c_0_1</th>\n",
              "      <th>ae_c_0_15</th>\n",
              "      <th>ae_cf</th>\n",
              "      <th>ax1_rms</th>\n",
              "      <th>ax1_sk</th>\n",
              "      <th>ax1_mean</th>\n",
              "      <th>...</th>\n",
              "      <th>cv3_z_mean</th>\n",
              "      <th>cv3_z_max</th>\n",
              "      <th>cv3_z_kurt</th>\n",
              "      <th>con_sv2_s</th>\n",
              "      <th>con_sv2_x</th>\n",
              "      <th>con_sv2_z</th>\n",
              "      <th>con_g_freal</th>\n",
              "      <th>con_a_sreal_s</th>\n",
              "      <th>tool_id</th>\n",
              "      <th>vb</th>\n",
              "    </tr>\n",
              "  </thead>\n",
              "  <tbody>\n",
              "    <tr>\n",
              "      <th>0</th>\n",
              "      <td>0.203665</td>\n",
              "      <td>4.044778</td>\n",
              "      <td>0.000731</td>\n",
              "      <td>0.027032</td>\n",
              "      <td>2310</td>\n",
              "      <td>42</td>\n",
              "      <td>7.534123</td>\n",
              "      <td>5.223149</td>\n",
              "      <td>-0.124066</td>\n",
              "      <td>0.020679</td>\n",
              "      <td>...</td>\n",
              "      <td>13.512</td>\n",
              "      <td>24</td>\n",
              "      <td>2.318726</td>\n",
              "      <td>23939045.05</td>\n",
              "      <td>1370.871415</td>\n",
              "      <td>233815.587100</td>\n",
              "      <td>2260.913532</td>\n",
              "      <td>8.155288e+06</td>\n",
              "      <td>5</td>\n",
              "      <td>0.000</td>\n",
              "    </tr>\n",
              "    <tr>\n",
              "      <th>1</th>\n",
              "      <td>0.194863</td>\n",
              "      <td>3.991339</td>\n",
              "      <td>0.000728</td>\n",
              "      <td>0.026977</td>\n",
              "      <td>2078</td>\n",
              "      <td>33</td>\n",
              "      <td>7.223210</td>\n",
              "      <td>5.127170</td>\n",
              "      <td>-0.127610</td>\n",
              "      <td>-0.028392</td>\n",
              "      <td>...</td>\n",
              "      <td>13.280</td>\n",
              "      <td>22</td>\n",
              "      <td>2.242422</td>\n",
              "      <td>23936873.29</td>\n",
              "      <td>1503.875567</td>\n",
              "      <td>233795.071899</td>\n",
              "      <td>2263.317532</td>\n",
              "      <td>8.153697e+06</td>\n",
              "      <td>5</td>\n",
              "      <td>2.172</td>\n",
              "    </tr>\n",
              "    <tr>\n",
              "      <th>2</th>\n",
              "      <td>0.203046</td>\n",
              "      <td>4.007360</td>\n",
              "      <td>0.000717</td>\n",
              "      <td>0.026781</td>\n",
              "      <td>2019</td>\n",
              "      <td>39</td>\n",
              "      <td>7.581602</td>\n",
              "      <td>5.151557</td>\n",
              "      <td>-0.132910</td>\n",
              "      <td>0.017371</td>\n",
              "      <td>...</td>\n",
              "      <td>13.240</td>\n",
              "      <td>23</td>\n",
              "      <td>2.398679</td>\n",
              "      <td>23936274.49</td>\n",
              "      <td>1417.811116</td>\n",
              "      <td>234333.251100</td>\n",
              "      <td>2266.488887</td>\n",
              "      <td>8.156394e+06</td>\n",
              "      <td>5</td>\n",
              "      <td>4.345</td>\n",
              "    </tr>\n",
              "    <tr>\n",
              "      <th>3</th>\n",
              "      <td>0.206462</td>\n",
              "      <td>4.007104</td>\n",
              "      <td>0.000716</td>\n",
              "      <td>0.026767</td>\n",
              "      <td>2105</td>\n",
              "      <td>32</td>\n",
              "      <td>7.713290</td>\n",
              "      <td>5.129690</td>\n",
              "      <td>-0.122920</td>\n",
              "      <td>-0.008704</td>\n",
              "      <td>...</td>\n",
              "      <td>13.240</td>\n",
              "      <td>23</td>\n",
              "      <td>2.215272</td>\n",
              "      <td>23941252.24</td>\n",
              "      <td>1357.918489</td>\n",
              "      <td>234497.141218</td>\n",
              "      <td>2267.637296</td>\n",
              "      <td>8.155210e+06</td>\n",
              "      <td>5</td>\n",
              "      <td>6.517</td>\n",
              "    </tr>\n",
              "    <tr>\n",
              "      <th>4</th>\n",
              "      <td>0.197119</td>\n",
              "      <td>4.016845</td>\n",
              "      <td>0.000714</td>\n",
              "      <td>0.026724</td>\n",
              "      <td>2053</td>\n",
              "      <td>29</td>\n",
              "      <td>7.376236</td>\n",
              "      <td>5.205071</td>\n",
              "      <td>-0.131262</td>\n",
              "      <td>-0.018240</td>\n",
              "      <td>...</td>\n",
              "      <td>12.948</td>\n",
              "      <td>21</td>\n",
              "      <td>2.267548</td>\n",
              "      <td>23936992.41</td>\n",
              "      <td>1388.865576</td>\n",
              "      <td>234292.008305</td>\n",
              "      <td>2268.203688</td>\n",
              "      <td>8.154652e+06</td>\n",
              "      <td>5</td>\n",
              "      <td>8.690</td>\n",
              "    </tr>\n",
              "  </tbody>\n",
              "</table>\n",
              "<p>5 rows × 154 columns</p>\n",
              "</div>"
            ],
            "text/plain": [
              "     ae_max   ae_kurt    ae_var    ae_rms  ae_c_0_1  ae_c_0_15     ae_cf  \\\n",
              "0  0.203665  4.044778  0.000731  0.027032      2310         42  7.534123   \n",
              "1  0.194863  3.991339  0.000728  0.026977      2078         33  7.223210   \n",
              "2  0.203046  4.007360  0.000717  0.026781      2019         39  7.581602   \n",
              "3  0.206462  4.007104  0.000716  0.026767      2105         32  7.713290   \n",
              "4  0.197119  4.016845  0.000714  0.026724      2053         29  7.376236   \n",
              "\n",
              "    ax1_rms    ax1_sk  ax1_mean  ...  cv3_z_mean  cv3_z_max  cv3_z_kurt  \\\n",
              "0  5.223149 -0.124066  0.020679  ...      13.512         24    2.318726   \n",
              "1  5.127170 -0.127610 -0.028392  ...      13.280         22    2.242422   \n",
              "2  5.151557 -0.132910  0.017371  ...      13.240         23    2.398679   \n",
              "3  5.129690 -0.122920 -0.008704  ...      13.240         23    2.215272   \n",
              "4  5.205071 -0.131262 -0.018240  ...      12.948         21    2.267548   \n",
              "\n",
              "     con_sv2_s    con_sv2_x      con_sv2_z  con_g_freal  con_a_sreal_s  \\\n",
              "0  23939045.05  1370.871415  233815.587100  2260.913532   8.155288e+06   \n",
              "1  23936873.29  1503.875567  233795.071899  2263.317532   8.153697e+06   \n",
              "2  23936274.49  1417.811116  234333.251100  2266.488887   8.156394e+06   \n",
              "3  23941252.24  1357.918489  234497.141218  2267.637296   8.155210e+06   \n",
              "4  23936992.41  1388.865576  234292.008305  2268.203688   8.154652e+06   \n",
              "\n",
              "   tool_id     vb  \n",
              "0        5  0.000  \n",
              "1        5  2.172  \n",
              "2        5  4.345  \n",
              "3        5  6.517  \n",
              "4        5  8.690  \n",
              "\n",
              "[5 rows x 154 columns]"
            ]
          },
          "metadata": {},
          "output_type": "display_data"
        }
      ],
      "source": [
        "try:\n",
        "    df = load_vicomtech_data(raw_path='../data/raw/VicomtechToolWearData.csv')\n",
        "    print('Data shape:', df.shape)\n",
        "    display(df.head())\n",
        "except FileNotFoundError as e:\n",
        "    print(e)"
      ]
    },
    {
      "cell_type": "code",
      "execution_count": 9,
      "metadata": {},
      "outputs": [
        {
          "data": {
            "application/vnd.microsoft.datawrangler.viewer.v0+json": {
              "columns": [
                {
                  "name": "index",
                  "rawType": "object",
                  "type": "string"
                },
                {
                  "name": "ae_max",
                  "rawType": "float64",
                  "type": "float"
                },
                {
                  "name": "ae_kurt",
                  "rawType": "float64",
                  "type": "float"
                },
                {
                  "name": "ae_var",
                  "rawType": "float64",
                  "type": "float"
                },
                {
                  "name": "ae_rms",
                  "rawType": "float64",
                  "type": "float"
                },
                {
                  "name": "ae_c_0_1",
                  "rawType": "float64",
                  "type": "float"
                },
                {
                  "name": "ae_c_0_15",
                  "rawType": "float64",
                  "type": "float"
                },
                {
                  "name": "ae_cf",
                  "rawType": "float64",
                  "type": "float"
                },
                {
                  "name": "ax1_rms",
                  "rawType": "float64",
                  "type": "float"
                },
                {
                  "name": "ax1_sk",
                  "rawType": "float64",
                  "type": "float"
                },
                {
                  "name": "ax1_mean",
                  "rawType": "float64",
                  "type": "float"
                },
                {
                  "name": "ax1_max",
                  "rawType": "float64",
                  "type": "float"
                },
                {
                  "name": "ax1_kurt",
                  "rawType": "float64",
                  "type": "float"
                },
                {
                  "name": "ax2_rms",
                  "rawType": "float64",
                  "type": "float"
                },
                {
                  "name": "ax2_sk",
                  "rawType": "float64",
                  "type": "float"
                },
                {
                  "name": "ax2_mean",
                  "rawType": "float64",
                  "type": "float"
                },
                {
                  "name": "ax2_max",
                  "rawType": "float64",
                  "type": "float"
                },
                {
                  "name": "ax2_kurt",
                  "rawType": "float64",
                  "type": "float"
                },
                {
                  "name": "ay1_rms",
                  "rawType": "float64",
                  "type": "float"
                },
                {
                  "name": "ay1_sk",
                  "rawType": "float64",
                  "type": "float"
                },
                {
                  "name": "ay1_mean",
                  "rawType": "float64",
                  "type": "float"
                },
                {
                  "name": "ay1_max",
                  "rawType": "float64",
                  "type": "float"
                },
                {
                  "name": "ay1_kurt",
                  "rawType": "float64",
                  "type": "float"
                },
                {
                  "name": "ay2_rms",
                  "rawType": "float64",
                  "type": "float"
                },
                {
                  "name": "ay2_sk",
                  "rawType": "float64",
                  "type": "float"
                },
                {
                  "name": "ay2_mean",
                  "rawType": "float64",
                  "type": "float"
                },
                {
                  "name": "ay2_max",
                  "rawType": "float64",
                  "type": "float"
                },
                {
                  "name": "ay2_kurt",
                  "rawType": "float64",
                  "type": "float"
                },
                {
                  "name": "az1_rms",
                  "rawType": "float64",
                  "type": "float"
                },
                {
                  "name": "az1_sk",
                  "rawType": "float64",
                  "type": "float"
                },
                {
                  "name": "az1_mean",
                  "rawType": "float64",
                  "type": "float"
                },
                {
                  "name": "az1_max",
                  "rawType": "float64",
                  "type": "float"
                },
                {
                  "name": "az1_kurt",
                  "rawType": "float64",
                  "type": "float"
                },
                {
                  "name": "az2_rms",
                  "rawType": "float64",
                  "type": "float"
                },
                {
                  "name": "az2_sk",
                  "rawType": "float64",
                  "type": "float"
                },
                {
                  "name": "az2_mean",
                  "rawType": "float64",
                  "type": "float"
                },
                {
                  "name": "az2_max",
                  "rawType": "float64",
                  "type": "float"
                },
                {
                  "name": "az2_kurt",
                  "rawType": "float64",
                  "type": "float"
                },
                {
                  "name": "f_p_rms",
                  "rawType": "float64",
                  "type": "float"
                },
                {
                  "name": "f_p_sk",
                  "rawType": "float64",
                  "type": "float"
                },
                {
                  "name": "f_p_mean",
                  "rawType": "float64",
                  "type": "float"
                },
                {
                  "name": "f_p_max",
                  "rawType": "float64",
                  "type": "float"
                },
                {
                  "name": "f_p_kurt",
                  "rawType": "float64",
                  "type": "float"
                },
                {
                  "name": "f_f_rms",
                  "rawType": "float64",
                  "type": "float"
                },
                {
                  "name": "f_f_sk",
                  "rawType": "float64",
                  "type": "float"
                },
                {
                  "name": "f_f_mean",
                  "rawType": "float64",
                  "type": "float"
                },
                {
                  "name": "f_f_max",
                  "rawType": "float64",
                  "type": "float"
                },
                {
                  "name": "f_f_kurt",
                  "rawType": "float64",
                  "type": "float"
                },
                {
                  "name": "f_c_rms",
                  "rawType": "float64",
                  "type": "float"
                },
                {
                  "name": "f_c_sk",
                  "rawType": "float64",
                  "type": "float"
                },
                {
                  "name": "f_c_mean",
                  "rawType": "float64",
                  "type": "float"
                },
                {
                  "name": "f_c_max",
                  "rawType": "float64",
                  "type": "float"
                },
                {
                  "name": "f_c_kurt",
                  "rawType": "float64",
                  "type": "float"
                },
                {
                  "name": "iu_s_rms",
                  "rawType": "float64",
                  "type": "float"
                },
                {
                  "name": "iu_s_sk",
                  "rawType": "float64",
                  "type": "float"
                },
                {
                  "name": "iu_s_mean",
                  "rawType": "float64",
                  "type": "float"
                },
                {
                  "name": "iu_s_max",
                  "rawType": "float64",
                  "type": "float"
                },
                {
                  "name": "iu_s_kurt",
                  "rawType": "float64",
                  "type": "float"
                },
                {
                  "name": "iu_x_rms",
                  "rawType": "float64",
                  "type": "float"
                },
                {
                  "name": "iu_x_sk",
                  "rawType": "float64",
                  "type": "float"
                },
                {
                  "name": "iu_x_mean",
                  "rawType": "float64",
                  "type": "float"
                },
                {
                  "name": "iu_x_max",
                  "rawType": "float64",
                  "type": "float"
                },
                {
                  "name": "iu_x_kurt",
                  "rawType": "float64",
                  "type": "float"
                },
                {
                  "name": "iv_s_rms",
                  "rawType": "float64",
                  "type": "float"
                },
                {
                  "name": "iv_s_sk",
                  "rawType": "float64",
                  "type": "float"
                },
                {
                  "name": "iv_s_mean",
                  "rawType": "float64",
                  "type": "float"
                },
                {
                  "name": "iv_s_max",
                  "rawType": "float64",
                  "type": "float"
                },
                {
                  "name": "iv_s_kurt",
                  "rawType": "float64",
                  "type": "float"
                },
                {
                  "name": "iv_x_rms",
                  "rawType": "float64",
                  "type": "float"
                },
                {
                  "name": "iv_x_sk",
                  "rawType": "float64",
                  "type": "float"
                },
                {
                  "name": "iv_x_mean",
                  "rawType": "float64",
                  "type": "float"
                },
                {
                  "name": "iv_x_max",
                  "rawType": "float64",
                  "type": "float"
                },
                {
                  "name": "iv_x_kurt",
                  "rawType": "float64",
                  "type": "float"
                },
                {
                  "name": "micro_rms",
                  "rawType": "float64",
                  "type": "float"
                },
                {
                  "name": "micro_sk",
                  "rawType": "float64",
                  "type": "float"
                },
                {
                  "name": "micro_mean",
                  "rawType": "float64",
                  "type": "float"
                },
                {
                  "name": "micro_max",
                  "rawType": "float64",
                  "type": "float"
                },
                {
                  "name": "micro_kurt",
                  "rawType": "float64",
                  "type": "float"
                },
                {
                  "name": "vu_s_rms",
                  "rawType": "float64",
                  "type": "float"
                },
                {
                  "name": "vu_s_sk",
                  "rawType": "float64",
                  "type": "float"
                },
                {
                  "name": "vu_s_mean",
                  "rawType": "float64",
                  "type": "float"
                },
                {
                  "name": "vu_s_max",
                  "rawType": "float64",
                  "type": "float"
                },
                {
                  "name": "vu_s_kurt",
                  "rawType": "float64",
                  "type": "float"
                },
                {
                  "name": "vu_x_rms",
                  "rawType": "float64",
                  "type": "float"
                },
                {
                  "name": "vu_x_sk",
                  "rawType": "float64",
                  "type": "float"
                },
                {
                  "name": "vu_x_mean",
                  "rawType": "float64",
                  "type": "float"
                },
                {
                  "name": "vu_x_max",
                  "rawType": "float64",
                  "type": "float"
                },
                {
                  "name": "vu_x_kurt",
                  "rawType": "float64",
                  "type": "float"
                },
                {
                  "name": "vv_s_rms",
                  "rawType": "float64",
                  "type": "float"
                },
                {
                  "name": "vv_s_sk",
                  "rawType": "float64",
                  "type": "float"
                },
                {
                  "name": "vv_s_mean",
                  "rawType": "float64",
                  "type": "float"
                },
                {
                  "name": "vv_s_max",
                  "rawType": "float64",
                  "type": "float"
                },
                {
                  "name": "vv_s_kurt",
                  "rawType": "float64",
                  "type": "float"
                },
                {
                  "name": "vv_x_rms",
                  "rawType": "float64",
                  "type": "float"
                },
                {
                  "name": "vv_x_sk",
                  "rawType": "float64",
                  "type": "float"
                },
                {
                  "name": "vv_x_mean",
                  "rawType": "float64",
                  "type": "float"
                },
                {
                  "name": "vv_x_max",
                  "rawType": "float64",
                  "type": "float"
                },
                {
                  "name": "vv_x_kurt",
                  "rawType": "float64",
                  "type": "float"
                },
                {
                  "name": "vw_s_rms",
                  "rawType": "float64",
                  "type": "float"
                },
                {
                  "name": "vw_s_sk",
                  "rawType": "float64",
                  "type": "float"
                },
                {
                  "name": "vw_s_mean",
                  "rawType": "float64",
                  "type": "float"
                },
                {
                  "name": "vw_s_max",
                  "rawType": "float64",
                  "type": "float"
                },
                {
                  "name": "vw_s_kurt",
                  "rawType": "float64",
                  "type": "float"
                },
                {
                  "name": "vw_x_rms",
                  "rawType": "float64",
                  "type": "float"
                },
                {
                  "name": "vw_x_sk",
                  "rawType": "float64",
                  "type": "float"
                },
                {
                  "name": "vw_x_mean",
                  "rawType": "float64",
                  "type": "float"
                },
                {
                  "name": "vw_x_max",
                  "rawType": "float64",
                  "type": "float"
                },
                {
                  "name": "vw_x_kurt",
                  "rawType": "float64",
                  "type": "float"
                },
                {
                  "name": "tv50_s_rms",
                  "rawType": "float64",
                  "type": "float"
                },
                {
                  "name": "tv50_s_sk",
                  "rawType": "float64",
                  "type": "float"
                },
                {
                  "name": "tv50_s_mean",
                  "rawType": "float64",
                  "type": "float"
                },
                {
                  "name": "tv50_s_max",
                  "rawType": "float64",
                  "type": "float"
                },
                {
                  "name": "tv50_s_kurt",
                  "rawType": "float64",
                  "type": "float"
                },
                {
                  "name": "tv51_s_rms",
                  "rawType": "float64",
                  "type": "float"
                },
                {
                  "name": "tv51_s_sk",
                  "rawType": "float64",
                  "type": "float"
                },
                {
                  "name": "tv51_s_mean",
                  "rawType": "float64",
                  "type": "float"
                },
                {
                  "name": "tv51_s_max",
                  "rawType": "float64",
                  "type": "float"
                },
                {
                  "name": "tv51_s_kurt",
                  "rawType": "float64",
                  "type": "float"
                },
                {
                  "name": "tv2_s_rms",
                  "rawType": "float64",
                  "type": "float"
                },
                {
                  "name": "tv2_s_sk",
                  "rawType": "float64",
                  "type": "float"
                },
                {
                  "name": "tv2_s_mean",
                  "rawType": "float64",
                  "type": "float"
                },
                {
                  "name": "tv2_s_max",
                  "rawType": "float64",
                  "type": "float"
                },
                {
                  "name": "tv2_s_kurt",
                  "rawType": "float64",
                  "type": "float"
                },
                {
                  "name": "tv2_x_rms",
                  "rawType": "float64",
                  "type": "float"
                },
                {
                  "name": "tv2_x_sk",
                  "rawType": "float64",
                  "type": "float"
                },
                {
                  "name": "tv2_x_mean",
                  "rawType": "float64",
                  "type": "float"
                },
                {
                  "name": "tv2_x_max",
                  "rawType": "float64",
                  "type": "float"
                },
                {
                  "name": "tv2_x_kurt",
                  "rawType": "float64",
                  "type": "float"
                },
                {
                  "name": "tv2_z_rms",
                  "rawType": "float64",
                  "type": "float"
                },
                {
                  "name": "tv2_z_sk",
                  "rawType": "float64",
                  "type": "float"
                },
                {
                  "name": "tv2_z_mean",
                  "rawType": "float64",
                  "type": "float"
                },
                {
                  "name": "tv2_z_max",
                  "rawType": "float64",
                  "type": "float"
                },
                {
                  "name": "tv2_z_kurt",
                  "rawType": "float64",
                  "type": "float"
                },
                {
                  "name": "cv3_s_rms",
                  "rawType": "float64",
                  "type": "float"
                },
                {
                  "name": "cv3_s_sk",
                  "rawType": "float64",
                  "type": "float"
                },
                {
                  "name": "cv3_s_mean",
                  "rawType": "float64",
                  "type": "float"
                },
                {
                  "name": "cv3_s_max",
                  "rawType": "float64",
                  "type": "float"
                },
                {
                  "name": "cv3_s_kurt",
                  "rawType": "float64",
                  "type": "float"
                },
                {
                  "name": "cv3_x_rms",
                  "rawType": "float64",
                  "type": "float"
                },
                {
                  "name": "cv3_x_sk",
                  "rawType": "float64",
                  "type": "float"
                },
                {
                  "name": "cv3_x_mean",
                  "rawType": "float64",
                  "type": "float"
                },
                {
                  "name": "cv3_x_max",
                  "rawType": "float64",
                  "type": "float"
                },
                {
                  "name": "cv3_x_kurt",
                  "rawType": "float64",
                  "type": "float"
                },
                {
                  "name": "cv3_z_rms",
                  "rawType": "float64",
                  "type": "float"
                },
                {
                  "name": "cv3_z_sk",
                  "rawType": "float64",
                  "type": "float"
                },
                {
                  "name": "cv3_z_mean",
                  "rawType": "float64",
                  "type": "float"
                },
                {
                  "name": "cv3_z_max",
                  "rawType": "float64",
                  "type": "float"
                },
                {
                  "name": "cv3_z_kurt",
                  "rawType": "float64",
                  "type": "float"
                },
                {
                  "name": "con_sv2_s",
                  "rawType": "float64",
                  "type": "float"
                },
                {
                  "name": "con_sv2_x",
                  "rawType": "float64",
                  "type": "float"
                },
                {
                  "name": "con_sv2_z",
                  "rawType": "float64",
                  "type": "float"
                },
                {
                  "name": "con_g_freal",
                  "rawType": "float64",
                  "type": "float"
                },
                {
                  "name": "con_a_sreal_s",
                  "rawType": "float64",
                  "type": "float"
                },
                {
                  "name": "tool_id",
                  "rawType": "float64",
                  "type": "float"
                },
                {
                  "name": "vb",
                  "rawType": "float64",
                  "type": "float"
                }
              ],
              "ref": "6455882e-43a7-4c79-8f54-70f4f3b2b363",
              "rows": [
                [
                  "count",
                  "2054.0",
                  "2054.0",
                  "2054.0",
                  "2054.0",
                  "2054.0",
                  "2054.0",
                  "2054.0",
                  "2054.0",
                  "2054.0",
                  "2054.0",
                  "2054.0",
                  "2054.0",
                  "2054.0",
                  "2054.0",
                  "2054.0",
                  "2054.0",
                  "2054.0",
                  "2054.0",
                  "2054.0",
                  "2054.0",
                  "2054.0",
                  "2054.0",
                  "2054.0",
                  "2054.0",
                  "2054.0",
                  "2054.0",
                  "2054.0",
                  "2054.0",
                  "2054.0",
                  "2054.0",
                  "2054.0",
                  "2054.0",
                  "2054.0",
                  "2054.0",
                  "2054.0",
                  "2054.0",
                  "2054.0",
                  "2054.0",
                  "2054.0",
                  "2054.0",
                  "2054.0",
                  "2054.0",
                  "2054.0",
                  "2054.0",
                  "2054.0",
                  "2054.0",
                  "2054.0",
                  "2054.0",
                  "2054.0",
                  "2054.0",
                  "2054.0",
                  "2054.0",
                  "2054.0",
                  "2054.0",
                  "2054.0",
                  "2054.0",
                  "2054.0",
                  "2054.0",
                  "2054.0",
                  "2054.0",
                  "2054.0",
                  "2054.0",
                  "2054.0",
                  "2054.0",
                  "2054.0",
                  "2054.0",
                  "2054.0",
                  "2054.0",
                  "2054.0",
                  "2054.0",
                  "2054.0",
                  "2054.0",
                  "2054.0",
                  "2054.0",
                  "2054.0",
                  "2054.0",
                  "2054.0",
                  "2054.0",
                  "2054.0",
                  "2054.0",
                  "2054.0",
                  "2054.0",
                  "2054.0",
                  "2054.0",
                  "2054.0",
                  "2054.0",
                  "2054.0",
                  "2054.0",
                  "2054.0",
                  "2054.0",
                  "2054.0",
                  "2054.0",
                  "2054.0",
                  "2054.0",
                  "2054.0",
                  "2054.0",
                  "2054.0",
                  "2054.0",
                  "2054.0",
                  "2054.0",
                  "2054.0",
                  "2054.0",
                  "2054.0",
                  "2054.0",
                  "2054.0",
                  "2054.0",
                  "2054.0",
                  "2054.0",
                  "2054.0",
                  "2054.0",
                  "2054.0",
                  "2054.0",
                  "2054.0",
                  "2054.0",
                  "2054.0",
                  "2054.0",
                  "2054.0",
                  "2054.0",
                  "2054.0",
                  "2054.0",
                  "2054.0",
                  "2054.0",
                  "2054.0",
                  "2054.0",
                  "2054.0",
                  "2054.0",
                  "2054.0",
                  "2054.0",
                  "2054.0",
                  "2054.0",
                  "2054.0",
                  "2054.0",
                  "2054.0",
                  "2054.0",
                  "2054.0",
                  "2054.0",
                  "2054.0",
                  "2054.0",
                  "1483.0",
                  "2054.0",
                  "2054.0",
                  "1483.0",
                  "2054.0",
                  "2054.0",
                  "2054.0",
                  "2054.0",
                  "2054.0",
                  "2054.0",
                  "2054.0",
                  "2054.0",
                  "2054.0",
                  "2054.0",
                  "2054.0",
                  "2054.0"
                ],
                [
                  "mean",
                  "1.5938419980525802",
                  "196.06002224537488",
                  "0.0016796927945472247",
                  "0.03633993962999025",
                  "10129.466893865629",
                  "4473.583739045765",
                  "38.981415378286265",
                  "4.9091053549172345",
                  "-0.33287671811100294",
                  "0.0003986363193768228",
                  "23.321766065725413",
                  "3.900266417234664",
                  "6.845509031158715",
                  "-0.2119840915287244",
                  "0.0010464323271665013",
                  "30.041661129990263",
                  "3.654532087633885",
                  "5.02429673661149",
                  "-0.316598670399221",
                  "-0.00031488023369036314",
                  "24.141268994157745",
                  "3.8402746548198645",
                  "1.2169167044790654",
                  "0.018860694741966888",
                  "-5.695861733203545e-05",
                  "5.50413806037001",
                  "2.5925551514118794",
                  "5.657908414313534",
                  "-0.2937898481012658",
                  "0.0005593675754625093",
                  "25.91492888072055",
                  "3.7520801523855885",
                  "5.084243874878287",
                  "-0.29242600730282375",
                  "0.0009522229795520912",
                  "23.734173349074975",
                  "4.059983393865628",
                  "172.51839246007788",
                  "-0.16574307497565727",
                  "172.17005202288217",
                  "240.18385508471277",
                  "6.029644416260953",
                  "470.7591704196689",
                  "-0.5829163023369036",
                  "470.64116978042847",
                  "502.039134083739",
                  "5.360485579844206",
                  "578.3274636353457",
                  "0.3042591041869523",
                  "577.7832693106136",
                  "647.8955183636806",
                  "2.4417863943524827",
                  "31.791555824245375",
                  "-0.0038103393378773128",
                  "0.050085127555988304",
                  "93.57045886708862",
                  "2.460718424050633",
                  "0.9647112667964945",
                  "-0.348675553067186",
                  "0.001628277994157737",
                  "2.293534484420643",
                  "3.438611196689387",
                  "33.20214388072055",
                  "-4.195520934761506e-05",
                  "-0.07115710223953262",
                  "103.7911708510224",
                  "2.5260498958130477",
                  "0.9623527283349562",
                  "-0.384144953261928",
                  "0.005514251703992204",
                  "2.266784807205453",
                  "3.45351514946446",
                  "0.4677200920155794",
                  "0.008539682083739042",
                  "1.7082278481012505e-05",
                  "1.916296994157741",
                  "4.034452195715677",
                  "262.8987458159688",
                  "-0.0004920662122687439",
                  "0.4156363821811101",
                  "427.1008526596884",
                  "1.2686594610516069",
                  "194.08883482424537",
                  "0.005033616358325217",
                  "-0.03654219717624149",
                  "378.4760068894839",
                  "2.0324830019474196",
                  "262.8535515014606",
                  "-0.0006365511197663096",
                  "0.4159634245374878",
                  "426.399538691334",
                  "1.268369364167478",
                  "194.06147859055503",
                  "0.004081685978578384",
                  "-0.010500354430379753",
                  "377.76210527215187",
                  "2.0323111314508275",
                  "261.8048647190848",
                  "-0.0007257127555988315",
                  "0.41615497955209346",
                  "420.21152226777025",
                  "1.2650347599805258",
                  "193.77319572687438",
                  "0.004281097857838364",
                  "-0.017587629016553072",
                  "377.00411489629994",
                  "2.0318571562804286",
                  "618.9409037025316",
                  "-0.00961074586173321",
                  "618.7617532220058",
                  "640.7283349561831",
                  "2.9323587312560857",
                  "7294.222304316456",
                  "0.009362702531645568",
                  "7289.171391597857",
                  "7938.826192794547",
                  "2.9125597395326195",
                  "124.89830769863681",
                  "0.13362952775073028",
                  "122.70257070691333",
                  "170.7429406037001",
                  "2.543509547711782",
                  "78.90994237536515",
                  "0.18574033885102242",
                  "77.38397451606622",
                  "87.52969814995132",
                  "4.293294731742941",
                  "97.01856999756572",
                  "-0.21896845959104186",
                  "91.07700981158715",
                  "155.19133398247322",
                  "2.3187257619279458",
                  "293.5309807190847",
                  "0.0038928296007789604",
                  "292.4483899109056",
                  "342.08666017526775",
                  "2.5138550360272642",
                  "2.955852935248296",
                  "0.286883039784221",
                  "2.917399065725414",
                  "3.474196689386563",
                  "62.97898753877275",
                  "14.1453623067186",
                  "-0.20147766358325217",
                  "13.281274593963",
                  "22.952288218111004",
                  "2.30999367624148",
                  "25078901.377683222",
                  "8391.34273733106",
                  "250629.53209663634",
                  "2472.108702204966",
                  "8543784.202123158",
                  "9.92989289191821",
                  "151.10392794547224"
                ],
                [
                  "std",
                  "1.3929355102254783",
                  "324.1584902692504",
                  "0.0022463028182478128",
                  "0.01895464049288646",
                  "12856.011136718023",
                  "6414.753369732491",
                  "24.174284322143556",
                  "1.8115442521274483",
                  "0.24437610779920377",
                  "0.21228681336657096",
                  "7.154535069449683",
                  "0.772260822274026",
                  "3.5067249629158415",
                  "0.27585532165043947",
                  "0.3420054439751495",
                  "12.838859806188305",
                  "0.8034486767008766",
                  "1.8452054532314042",
                  "0.25423209481402703",
                  "0.25054233487250427",
                  "8.220033086743177",
                  "0.6766202836230564",
                  "3.1539497106294663",
                  "0.09429783414133908",
                  "0.1331074642658067",
                  "13.754860221175736",
                  "0.5753238466528465",
                  "2.8801219412135035",
                  "0.22785875847070122",
                  "0.13330174053790234",
                  "10.230480631418104",
                  "0.6542236622975659",
                  "2.1813329395138337",
                  "0.3375310375472871",
                  "0.3437272370841764",
                  "9.341767425358201",
                  "1.6038595551126826",
                  "80.87270763712462",
                  "0.2633076248101901",
                  "80.92351907311415",
                  "84.04789918086887",
                  "3.2220426483180957",
                  "187.31747664765996",
                  "0.7019071464805458",
                  "187.3304818560773",
                  "190.24618377885602",
                  "3.2410198185513837",
                  "56.64178324409799",
                  "0.1298305374707557",
                  "56.615565947036636",
                  "63.430517738235686",
                  "0.2652839265503602",
                  "1.9288240760796944",
                  "0.00538901407754239",
                  "0.21898069240849108",
                  "5.102173168724966",
                  "0.067728560034412",
                  "0.6699752377305901",
                  "0.7913515558714302",
                  "0.16307367597733835",
                  "1.6026177365115635",
                  "1.836605761837679",
                  "1.8275323277223632",
                  "0.01104154576332429",
                  "0.2903320620262752",
                  "4.9258189475911935",
                  "0.05592484005885251",
                  "0.6642705807902212",
                  "0.7721430637464424",
                  "0.1729359394135752",
                  "1.5987772765988095",
                  "1.8171690077586047",
                  "0.18835885284842308",
                  "0.22803823117793118",
                  "0.004365092560352604",
                  "1.7262036806325078",
                  "25.747758481304214",
                  "2.7116093961418555",
                  "0.0033871739841822217",
                  "1.6214681525881651",
                  "5.202378745116048",
                  "0.0038642937705418165",
                  "3.1462748080741076",
                  "0.003354447628478018",
                  "0.3228397637847571",
                  "7.70477475616373",
                  "0.018324806596677807",
                  "2.7174190719879716",
                  "0.0034410479136944856",
                  "1.628941206545726",
                  "5.292850221955455",
                  "0.0038302707405908493",
                  "3.071881860496561",
                  "0.002312068201411176",
                  "0.25885837824947705",
                  "6.308765747698666",
                  "0.018140831602564165",
                  "2.7131534643881583",
                  "0.0034019860822340924",
                  "1.6196344932513422",
                  "5.248754243027259",
                  "0.0038436531560938117",
                  "3.1853963347471668",
                  "0.002265046498893203",
                  "0.23075712940781795",
                  "6.7525388578174175",
                  "0.018137064201904907",
                  "119.8513978277256",
                  "0.6089954941633902",
                  "119.85716167951729",
                  "127.73271535246161",
                  "6.2935466106819815",
                  "754.6192666064678",
                  "0.4329659189201049",
                  "753.6475522119475",
                  "924.5381609129659",
                  "4.131190036232555",
                  "9.3636539742179",
                  "0.27149958127250506",
                  "9.62468162658113",
                  "14.893456207919654",
                  "1.02606170932705",
                  "55.89758749032305",
                  "0.665755424509994",
                  "55.77859234328967",
                  "55.61518717514556",
                  "4.737940763711509",
                  "10.947886673647997",
                  "0.24586792003822325",
                  "12.965252725454302",
                  "12.877590834899976",
                  "1.2572576701109976",
                  "21.103086158651482",
                  "0.43346490327843534",
                  "21.62879681917957",
                  "19.02610013523444",
                  "2.54750193872703",
                  "2.391803100349787",
                  "7.751522085694498",
                  "2.355723393644744",
                  "3.5859859031353407",
                  "83.04929712570544",
                  "1.6375966872351342",
                  "0.2005561181927003",
                  "1.6836457760322578",
                  "2.8064122045675814",
                  "0.9736069358396956",
                  "4677596.393646303",
                  "147389.00586753167",
                  "201581.94468245964",
                  "2302.2285906688926",
                  "1595049.800851107",
                  "4.110736099449372",
                  "116.6045145758045"
                ],
                [
                  "min",
                  "0.0613559999999999",
                  "2.805944",
                  "1e-05",
                  "0.003175",
                  "0.0",
                  "0.0",
                  "4.518057",
                  "3.125334",
                  "-1.342878",
                  "-2.39499",
                  "15.474697",
                  "2.052135",
                  "3.057926",
                  "-1.283632",
                  "-2.790077",
                  "13.070329",
                  "2.072788",
                  "3.170849",
                  "-1.603976",
                  "-2.43787",
                  "15.396976",
                  "2.0557830000000004",
                  "0.001462",
                  "-0.998434",
                  "-1.85578",
                  "0.005368",
                  "2.1548700000000003",
                  "3.170071",
                  "-0.579639",
                  "-2.62978",
                  "15.351105",
                  "2.117111",
                  "3.069751",
                  "-1.746393",
                  "-2.439771",
                  "12.237493",
                  "2.073082",
                  "101.88599",
                  "-1.285005",
                  "101.719949",
                  "127.124955",
                  "1.776534",
                  "274.751489",
                  "-3.065954",
                  "274.671912",
                  "298.621214",
                  "1.963281",
                  "480.579152",
                  "-0.156728",
                  "480.267914",
                  "530.273187",
                  "1.696778",
                  "28.68636",
                  "-0.020106",
                  "-0.759769",
                  "80.998012",
                  "2.279977",
                  "0.044213",
                  "-2.082349",
                  "-0.555212",
                  "-0.351521",
                  "1.63122",
                  "30.046232",
                  "-0.030101",
                  "-0.713489",
                  "91.094124",
                  "2.372661",
                  "0.033188",
                  "-2.09992",
                  "-0.653866",
                  "-0.470335",
                  "1.622084",
                  "0.266002",
                  "-8.30945",
                  "-0.019384",
                  "1.045839",
                  "1.923072",
                  "255.545462",
                  "-0.007854",
                  "-5.862959",
                  "408.885491",
                  "1.246848",
                  "187.133042",
                  "-0.005157",
                  "-2.876817",
                  "362.093817",
                  "2.003811",
                  "255.502931",
                  "-0.008089",
                  "-6.212318",
                  "406.781269",
                  "1.244622",
                  "187.191122",
                  "-0.004573",
                  "-1.223587",
                  "361.996102",
                  "2.003923",
                  "254.462495",
                  "-0.008197",
                  "-5.435583",
                  "400.81267",
                  "1.242631",
                  "186.76197",
                  "-0.003905",
                  "-0.916804",
                  "362.551123",
                  "2.003669",
                  "354.654615",
                  "-14.765978",
                  "309.784",
                  "482.0",
                  "1.293274",
                  "5005.911734",
                  "-9.911385",
                  "4674.452",
                  "6571.0",
                  "1.549814",
                  "80.94924300000001",
                  "-4.15537",
                  "64.804",
                  "103.0",
                  "1.372684",
                  "1.515256",
                  "-9.662587",
                  "-171.598086",
                  "0.0",
                  "1.941794",
                  "68.130199",
                  "-4.818192",
                  "-106.856",
                  "-62.0",
                  "1.962706",
                  "226.031157",
                  "-6.668074",
                  "225.804",
                  "253.0",
                  "1.492033",
                  "0.0",
                  "-15.811388",
                  "0.0",
                  "0.0",
                  "0.983806",
                  "9.81081",
                  "-0.487165",
                  "9.796",
                  "11.0",
                  "1.96118",
                  "20289138.84",
                  "1190.80364",
                  "3154.739317",
                  "0.0",
                  "6906771.019",
                  "3.0",
                  "0.0"
                ],
                [
                  "25%",
                  "0.38537175",
                  "5.34220525",
                  "0.0006082500000000001",
                  "0.024668250000000003",
                  "1991.0",
                  "135.0",
                  "17.75390875",
                  "4.0215635",
                  "-0.49715175",
                  "-0.011419499999999999",
                  "18.89195025",
                  "3.333794",
                  "3.3723035",
                  "-0.484293",
                  "-0.00976375",
                  "16.60405925",
                  "3.100369",
                  "4.053795",
                  "-0.481617",
                  "-0.01153525",
                  "18.60352175",
                  "3.3788090000000004",
                  "0.001718",
                  "-0.00792325",
                  "-2e-06",
                  "0.0064975",
                  "2.37509275",
                  "3.98153325",
                  "-0.46885075",
                  "-0.00992575",
                  "18.70612425",
                  "3.1570905",
                  "3.35755375",
                  "-0.5276355",
                  "-0.01104525",
                  "16.293469",
                  "3.30762525",
                  "118.98651225",
                  "-0.26680499999999996",
                  "118.49372875",
                  "189.4159655",
                  "3.339704",
                  "368.28481075",
                  "-1.02835025",
                  "368.24342025",
                  "397.07708925",
                  "2.97665275",
                  "547.9998449999999",
                  "0.23057049999999996",
                  "547.4650172500001",
                  "610.023669",
                  "2.2646725",
                  "29.990603",
                  "-0.00714325",
                  "-0.0676615",
                  "89.24234100000001",
                  "2.419838",
                  "0.10491099999999999",
                  "-0.36904275000000003",
                  "-0.06283225",
                  "0.23265349999999999",
                  "2.0803355",
                  "31.530106500000002",
                  "-0.0039055",
                  "-0.27230225",
                  "99.9439775",
                  "2.48737875",
                  "0.1108575",
                  "-0.98597125",
                  "-0.06268000000000001",
                  "0.21846349999999992",
                  "2.081017",
                  "0.35651475",
                  "-0.020738",
                  "-0.002354",
                  "1.45596575",
                  "2.82771375",
                  "260.86121449999996",
                  "-0.003195",
                  "-0.34581775000000003",
                  "423.76355675",
                  "1.2661752499999999",
                  "191.7438535",
                  "0.00376325",
                  "-0.21426825",
                  "372.3876925",
                  "2.01828625",
                  "260.83695425",
                  "-0.00318325",
                  "-0.346882",
                  "423.32876575",
                  "1.26596575",
                  "191.78018699999998",
                  "0.00358925",
                  "-0.11813675",
                  "372.787939",
                  "2.0182695",
                  "259.7983205",
                  "-0.00332225",
                  "-0.3611745",
                  "417.08990125",
                  "1.2625775",
                  "191.388824",
                  "0.0038085000000000003",
                  "-0.136765",
                  "371.69695775",
                  "2.01781375",
                  "535.4079610000001",
                  "-0.18371775",
                  "535.237",
                  "551.0",
                  "2.38768025",
                  "6754.324843",
                  "-0.060966",
                  "6751.05",
                  "7307.25",
                  "2.5398352500000003",
                  "120.08605225000001",
                  "-0.01054325",
                  "118.27",
                  "160.0",
                  "1.85153275",
                  "39.28855925",
                  "-0.047334",
                  "38.974",
                  "47.0",
                  "2.8773715",
                  "91.11504275",
                  "-0.29395725",
                  "85.184",
                  "148.0",
                  "2.21151825",
                  "273.56858550000004",
                  "-0.19629175",
                  "271.90599999999995",
                  "334.0",
                  "1.95774475",
                  "1.0064785",
                  "-3.809205",
                  "1.004",
                  "2.0",
                  "3.815185",
                  "13.259939500000002",
                  "-0.29108175",
                  "12.344",
                  "22.0",
                  "2.2144502500000005",
                  "22058758.49130975",
                  "1652.9151324999998",
                  "211822.0887",
                  "2050.7923745",
                  "7513810.500164",
                  "6.0",
                  "74.774"
                ],
                [
                  "50%",
                  "1.202854",
                  "59.6693655",
                  "0.000945",
                  "0.030743",
                  "5785.0",
                  "2290.0",
                  "37.1969925",
                  "4.180038",
                  "-0.445624",
                  "0.0001795",
                  "20.497453",
                  "3.872455",
                  "6.931238500000001",
                  "-0.1098715",
                  "0.000393",
                  "30.730778",
                  "3.4262905",
                  "4.194371499999999",
                  "-0.43258549999999996",
                  "0.000181",
                  "20.2130805",
                  "3.7728099999999998",
                  "0.0020905",
                  "0.02539099999999995",
                  "0.0",
                  "0.007549999999999999",
                  "2.4345455",
                  "4.1263635",
                  "-0.42068",
                  "9.65e-05",
                  "20.4418835",
                  "3.7821520000000004",
                  "4.628643",
                  "-0.269472",
                  "0.0004395",
                  "22.1715345",
                  "3.993664",
                  "142.373333",
                  "-0.1171655",
                  "142.0507215",
                  "224.959048",
                  "5.139887",
                  "413.093397",
                  "-0.3773215",
                  "412.9184355",
                  "446.84421950000007",
                  "4.0427795",
                  "565.937277",
                  "0.31768850000000004",
                  "565.2411629999999",
                  "633.9603024999999",
                  "2.410979",
                  "31.5826695",
                  "-0.0040955",
                  "0.085224",
                  "95.154053",
                  "2.4602015",
                  "1.3557635",
                  "-0.0335685",
                  "-0.0006495",
                  "3.3096330000000003",
                  "2.264542",
                  "33.0323745",
                  "-0.00020449999999999998",
                  "-0.1217435",
                  "105.0001795",
                  "2.527632",
                  "1.3475785",
                  "-0.086814",
                  "0.007485",
                  "3.2850575",
                  "2.2656245000000004",
                  "0.4035625",
                  "0.01377249999999995",
                  "4.75e-05",
                  "1.6692519999999997",
                  "2.941394",
                  "262.92327850000004",
                  "-0.00041200000000000004",
                  "0.7879274999999999",
                  "427.6380765",
                  "1.269018",
                  "194.238177",
                  "0.004343",
                  "-0.043765",
                  "377.4534085",
                  "2.0220325",
                  "262.836682",
                  "-0.0006724999999999999",
                  "0.788593",
                  "427.00278849999995",
                  "1.2686245",
                  "194.2495935",
                  "0.0041935",
                  "-0.0018625",
                  "377.729994",
                  "2.0220225",
                  "261.8008575",
                  "-0.000767",
                  "0.7631585",
                  "420.75601600000005",
                  "1.265278",
                  "193.875721",
                  "0.004328",
                  "-0.0220165",
                  "376.53400899999997",
                  "2.0215725",
                  "580.993919",
                  "0.017055",
                  "580.9739999999999",
                  "596.0",
                  "2.6131705",
                  "7041.228703000001",
                  "0.0332045",
                  "7037.584000000001",
                  "7603.5",
                  "2.6994675",
                  "124.172517",
                  "0.152855",
                  "121.894",
                  "169.0",
                  "2.6383375",
                  "66.5983935",
                  "0.14874449999999995",
                  "66.44",
                  "74.0",
                  "3.3709825",
                  "94.7046885",
                  "-0.2319095",
                  "89.14",
                  "153.0",
                  "2.264821",
                  "292.3597025",
                  "-0.036207500000000004",
                  "290.702",
                  "343.0",
                  "2.3021085",
                  "2.097618",
                  "0.623521",
                  "2.0780000000000003",
                  "3.0",
                  "21.158341",
                  "13.801739",
                  "-0.230762",
                  "12.946000000000002",
                  "23.0",
                  "2.2703300000000004",
                  "23936998.391252503",
                  "2243.461822",
                  "233916.02915150003",
                  "2263.3641645",
                  "8154236.214183999",
                  "10.0",
                  "124.69"
                ],
                [
                  "75%",
                  "2.430667",
                  "266.48459225",
                  "0.0019272500000000001",
                  "0.04389975",
                  "13970.5",
                  "6370.25",
                  "55.132376750000006",
                  "5.700836",
                  "-0.10653125000000001",
                  "0.011917",
                  "25.704251",
                  "4.07167275",
                  "9.26668875",
                  "-0.033207",
                  "0.0109985",
                  "39.950410250000004",
                  "4.1243995",
                  "5.93719525",
                  "-0.08753825",
                  "0.0119",
                  "28.82691775",
                  "3.96602475",
                  "0.002294",
                  "0.0505705",
                  "3e-06",
                  "0.008132499999999999",
                  "2.5391572499999997",
                  "7.422014999999999",
                  "-0.0354525",
                  "0.010427249999999999",
                  "32.48850575",
                  "3.97062475",
                  "5.8946165",
                  "-0.14435425000000002",
                  "0.011355500000000001",
                  "26.92867875",
                  "4.26782025",
                  "200.60040400000003",
                  "0.005292750000000001",
                  "200.20824725",
                  "268.190227",
                  "7.94008525",
                  "489.93113575000007",
                  "-0.022539749999999997",
                  "489.85370675",
                  "522.2710237499999",
                  "6.83155875",
                  "589.8371197499999",
                  "0.3946305",
                  "589.48818875",
                  "666.38666075",
                  "2.61253925",
                  "33.0971895",
                  "-0.00082925",
                  "0.20146825",
                  "97.6440265",
                  "2.5175625000000004",
                  "1.45001825",
                  "0.09090875",
                  "0.0796475",
                  "3.49948625",
                  "4.7528255",
                  "34.46324625",
                  "0.0032445",
                  "0.05872375",
                  "107.489864",
                  "2.5744555",
                  "1.44328975",
                  "0.046409",
                  "0.09097374999999999",
                  "3.4683312500000003",
                  "5.15346825",
                  "0.505682",
                  "0.04994049999999992",
                  "0.0023505",
                  "2.0807657500000003",
                  "3.01427225",
                  "265.05339575000005",
                  "0.0021557499999999997",
                  "1.56813225",
                  "430.63580975",
                  "1.27118625",
                  "196.34118425",
                  "0.00489975",
                  "0.11891724999999997",
                  "385.14413325",
                  "2.05444425",
                  "264.9872325",
                  "0.0020605",
                  "1.5798467500000002",
                  "429.9193915",
                  "1.2708110000000001",
                  "196.17136025",
                  "0.0047174999999999995",
                  "0.10838375",
                  "383.00775875",
                  "2.0540237500000003",
                  "263.95697225000004",
                  "0.0020275000000000002",
                  "1.57176325",
                  "423.85886025",
                  "1.26752325",
                  "196.06093075",
                  "0.00481475",
                  "0.10855174999999989",
                  "382.61177475",
                  "2.0536837500000003",
                  "669.1300955",
                  "0.20387149999999998",
                  "669.05",
                  "706.75",
                  "2.86480975",
                  "7447.0054172499995",
                  "0.12477675",
                  "7443.227",
                  "8074.0",
                  "2.87083625",
                  "129.01059475",
                  "0.27033025",
                  "126.78",
                  "181.0",
                  "2.9951962500000002",
                  "115.6247545",
                  "0.40506400000000004",
                  "115.23",
                  "126.0",
                  "4.2174165",
                  "99.13886675",
                  "-0.141124",
                  "93.86699999999999",
                  "159.0",
                  "2.31542",
                  "308.0339385",
                  "0.182632",
                  "307.646",
                  "357.0",
                  "2.6775395",
                  "4.50677225",
                  "4.473604",
                  "4.476",
                  "5.0",
                  "82.95964599999999",
                  "14.466824",
                  "-0.13965824999999998",
                  "13.651",
                  "23.0",
                  "2.32069025",
                  "26168179.322499998",
                  "2665.11755525",
                  "256805.1976525",
                  "2480.497737",
                  "8915362.766999999",
                  "14.0",
                  "187.40800000000002"
                ],
                [
                  "max",
                  "7.419777000000001",
                  "3883.077071",
                  "0.023126",
                  "0.152073",
                  "173293.0",
                  "83476.0",
                  "140.091565",
                  "15.241643",
                  "2.586992",
                  "1.841509",
                  "58.685927",
                  "15.736345000000002",
                  "18.49793",
                  "1.305963",
                  "1.898753",
                  "61.451682",
                  "14.320101",
                  "14.255146",
                  "1.8683",
                  "2.714303",
                  "61.26714499999999",
                  "10.210028",
                  "16.79464",
                  "1.6393240000000002",
                  "1.7805689999999998",
                  "58.291197",
                  "12.862275",
                  "17.753392",
                  "2.228754",
                  "1.876338",
                  "60.803084",
                  "12.784806",
                  "14.591654",
                  "3.4441620000000004",
                  "1.937116",
                  "63.998964",
                  "32.50913",
                  "905.889052",
                  "2.021766",
                  "905.714045",
                  "962.533305",
                  "33.023933",
                  "2044.933429",
                  "0.798737",
                  "2044.781098",
                  "2114.994829",
                  "23.935713",
                  "1058.272864",
                  "0.6332180000000001",
                  "1058.077795",
                  "1123.797131",
                  "3.4027830000000003",
                  "37.811834000000005",
                  "0.026667",
                  "0.539664",
                  "107.677715",
                  "2.601388",
                  "3.032899",
                  "1.183834",
                  "0.556967",
                  "5.567737",
                  "7.287822",
                  "38.962887",
                  "0.058462",
                  "1.268434",
                  "117.557709",
                  "2.637175",
                  "3.078552",
                  "1.690826",
                  "1.218438",
                  "5.693357",
                  "7.963353999999999",
                  "2.067452",
                  "0.254714",
                  "0.022415",
                  "59.069972",
                  "838.3289269999999",
                  "269.945531",
                  "0.00692",
                  "5.401838",
                  "441.043396",
                  "1.2818459999999998",
                  "202.30628",
                  "0.0153",
                  "1.988847",
                  "402.857521",
                  "2.072768",
                  "269.774541",
                  "0.00726",
                  "5.268049",
                  "445.137604",
                  "1.281419",
                  "201.913949",
                  "0.01017",
                  "2.756699",
                  "395.604672",
                  "2.07307",
                  "268.71689100000003",
                  "0.006968",
                  "5.752034",
                  "436.365631",
                  "1.278285",
                  "201.955377",
                  "0.009874",
                  "1.06154",
                  "395.629108",
                  "2.071925",
                  "988.059053",
                  "2.12306",
                  "987.94",
                  "1208.0",
                  "227.127651",
                  "10007.93115",
                  "1.478654",
                  "10000.504",
                  "11162.0",
                  "124.734058",
                  "199.128672",
                  "0.7833140000000001",
                  "198.604",
                  "240.0",
                  "26.300779",
                  "397.772374",
                  "4.247154",
                  "304.668",
                  "320.0",
                  "110.605641",
                  "203.558031",
                  "5.471181",
                  "200.868",
                  "262.0",
                  "33.102086",
                  "359.054575",
                  "1.184519",
                  "358.676",
                  "398.0",
                  "77.289712",
                  "16.840797",
                  "15.811388",
                  "12.828",
                  "59.0",
                  "253.0",
                  "30.159642",
                  "3.731516000000001",
                  "29.664",
                  "74.0",
                  "34.246011",
                  "36300601.24",
                  "4078587.013",
                  "8669161.978",
                  "84091.87798",
                  "12371794.46",
                  "16.0",
                  "792.346"
                ]
              ],
              "shape": {
                "columns": 154,
                "rows": 8
              }
            },
            "text/html": [
              "<div>\n",
              "<style scoped>\n",
              "    .dataframe tbody tr th:only-of-type {\n",
              "        vertical-align: middle;\n",
              "    }\n",
              "\n",
              "    .dataframe tbody tr th {\n",
              "        vertical-align: top;\n",
              "    }\n",
              "\n",
              "    .dataframe thead th {\n",
              "        text-align: right;\n",
              "    }\n",
              "</style>\n",
              "<table border=\"1\" class=\"dataframe\">\n",
              "  <thead>\n",
              "    <tr style=\"text-align: right;\">\n",
              "      <th></th>\n",
              "      <th>ae_max</th>\n",
              "      <th>ae_kurt</th>\n",
              "      <th>ae_var</th>\n",
              "      <th>ae_rms</th>\n",
              "      <th>ae_c_0_1</th>\n",
              "      <th>ae_c_0_15</th>\n",
              "      <th>ae_cf</th>\n",
              "      <th>ax1_rms</th>\n",
              "      <th>ax1_sk</th>\n",
              "      <th>ax1_mean</th>\n",
              "      <th>...</th>\n",
              "      <th>cv3_z_mean</th>\n",
              "      <th>cv3_z_max</th>\n",
              "      <th>cv3_z_kurt</th>\n",
              "      <th>con_sv2_s</th>\n",
              "      <th>con_sv2_x</th>\n",
              "      <th>con_sv2_z</th>\n",
              "      <th>con_g_freal</th>\n",
              "      <th>con_a_sreal_s</th>\n",
              "      <th>tool_id</th>\n",
              "      <th>vb</th>\n",
              "    </tr>\n",
              "  </thead>\n",
              "  <tbody>\n",
              "    <tr>\n",
              "      <th>count</th>\n",
              "      <td>2054.000000</td>\n",
              "      <td>2054.000000</td>\n",
              "      <td>2054.000000</td>\n",
              "      <td>2054.000000</td>\n",
              "      <td>2054.000000</td>\n",
              "      <td>2054.000000</td>\n",
              "      <td>2054.000000</td>\n",
              "      <td>2054.000000</td>\n",
              "      <td>2054.000000</td>\n",
              "      <td>2054.000000</td>\n",
              "      <td>...</td>\n",
              "      <td>2054.000000</td>\n",
              "      <td>2054.000000</td>\n",
              "      <td>2054.000000</td>\n",
              "      <td>2.054000e+03</td>\n",
              "      <td>2.054000e+03</td>\n",
              "      <td>2.054000e+03</td>\n",
              "      <td>2054.000000</td>\n",
              "      <td>2.054000e+03</td>\n",
              "      <td>2054.000000</td>\n",
              "      <td>2054.000000</td>\n",
              "    </tr>\n",
              "    <tr>\n",
              "      <th>mean</th>\n",
              "      <td>1.593842</td>\n",
              "      <td>196.060022</td>\n",
              "      <td>0.001680</td>\n",
              "      <td>0.036340</td>\n",
              "      <td>10129.466894</td>\n",
              "      <td>4473.583739</td>\n",
              "      <td>38.981415</td>\n",
              "      <td>4.909105</td>\n",
              "      <td>-0.332877</td>\n",
              "      <td>0.000399</td>\n",
              "      <td>...</td>\n",
              "      <td>13.281275</td>\n",
              "      <td>22.952288</td>\n",
              "      <td>2.309994</td>\n",
              "      <td>2.507890e+07</td>\n",
              "      <td>8.391343e+03</td>\n",
              "      <td>2.506295e+05</td>\n",
              "      <td>2472.108702</td>\n",
              "      <td>8.543784e+06</td>\n",
              "      <td>9.929893</td>\n",
              "      <td>151.103928</td>\n",
              "    </tr>\n",
              "    <tr>\n",
              "      <th>std</th>\n",
              "      <td>1.392936</td>\n",
              "      <td>324.158490</td>\n",
              "      <td>0.002246</td>\n",
              "      <td>0.018955</td>\n",
              "      <td>12856.011137</td>\n",
              "      <td>6414.753370</td>\n",
              "      <td>24.174284</td>\n",
              "      <td>1.811544</td>\n",
              "      <td>0.244376</td>\n",
              "      <td>0.212287</td>\n",
              "      <td>...</td>\n",
              "      <td>1.683646</td>\n",
              "      <td>2.806412</td>\n",
              "      <td>0.973607</td>\n",
              "      <td>4.677596e+06</td>\n",
              "      <td>1.473890e+05</td>\n",
              "      <td>2.015819e+05</td>\n",
              "      <td>2302.228591</td>\n",
              "      <td>1.595050e+06</td>\n",
              "      <td>4.110736</td>\n",
              "      <td>116.604515</td>\n",
              "    </tr>\n",
              "    <tr>\n",
              "      <th>min</th>\n",
              "      <td>0.061356</td>\n",
              "      <td>2.805944</td>\n",
              "      <td>0.000010</td>\n",
              "      <td>0.003175</td>\n",
              "      <td>0.000000</td>\n",
              "      <td>0.000000</td>\n",
              "      <td>4.518057</td>\n",
              "      <td>3.125334</td>\n",
              "      <td>-1.342878</td>\n",
              "      <td>-2.394990</td>\n",
              "      <td>...</td>\n",
              "      <td>9.796000</td>\n",
              "      <td>11.000000</td>\n",
              "      <td>1.961180</td>\n",
              "      <td>2.028914e+07</td>\n",
              "      <td>1.190804e+03</td>\n",
              "      <td>3.154739e+03</td>\n",
              "      <td>0.000000</td>\n",
              "      <td>6.906771e+06</td>\n",
              "      <td>3.000000</td>\n",
              "      <td>0.000000</td>\n",
              "    </tr>\n",
              "    <tr>\n",
              "      <th>25%</th>\n",
              "      <td>0.385372</td>\n",
              "      <td>5.342205</td>\n",
              "      <td>0.000608</td>\n",
              "      <td>0.024668</td>\n",
              "      <td>1991.000000</td>\n",
              "      <td>135.000000</td>\n",
              "      <td>17.753909</td>\n",
              "      <td>4.021564</td>\n",
              "      <td>-0.497152</td>\n",
              "      <td>-0.011419</td>\n",
              "      <td>...</td>\n",
              "      <td>12.344000</td>\n",
              "      <td>22.000000</td>\n",
              "      <td>2.214450</td>\n",
              "      <td>2.205876e+07</td>\n",
              "      <td>1.652915e+03</td>\n",
              "      <td>2.118221e+05</td>\n",
              "      <td>2050.792374</td>\n",
              "      <td>7.513811e+06</td>\n",
              "      <td>6.000000</td>\n",
              "      <td>74.774000</td>\n",
              "    </tr>\n",
              "    <tr>\n",
              "      <th>50%</th>\n",
              "      <td>1.202854</td>\n",
              "      <td>59.669365</td>\n",
              "      <td>0.000945</td>\n",
              "      <td>0.030743</td>\n",
              "      <td>5785.000000</td>\n",
              "      <td>2290.000000</td>\n",
              "      <td>37.196993</td>\n",
              "      <td>4.180038</td>\n",
              "      <td>-0.445624</td>\n",
              "      <td>0.000179</td>\n",
              "      <td>...</td>\n",
              "      <td>12.946000</td>\n",
              "      <td>23.000000</td>\n",
              "      <td>2.270330</td>\n",
              "      <td>2.393700e+07</td>\n",
              "      <td>2.243462e+03</td>\n",
              "      <td>2.339160e+05</td>\n",
              "      <td>2263.364164</td>\n",
              "      <td>8.154236e+06</td>\n",
              "      <td>10.000000</td>\n",
              "      <td>124.690000</td>\n",
              "    </tr>\n",
              "    <tr>\n",
              "      <th>75%</th>\n",
              "      <td>2.430667</td>\n",
              "      <td>266.484592</td>\n",
              "      <td>0.001927</td>\n",
              "      <td>0.043900</td>\n",
              "      <td>13970.500000</td>\n",
              "      <td>6370.250000</td>\n",
              "      <td>55.132377</td>\n",
              "      <td>5.700836</td>\n",
              "      <td>-0.106531</td>\n",
              "      <td>0.011917</td>\n",
              "      <td>...</td>\n",
              "      <td>13.651000</td>\n",
              "      <td>23.000000</td>\n",
              "      <td>2.320690</td>\n",
              "      <td>2.616818e+07</td>\n",
              "      <td>2.665118e+03</td>\n",
              "      <td>2.568052e+05</td>\n",
              "      <td>2480.497737</td>\n",
              "      <td>8.915363e+06</td>\n",
              "      <td>14.000000</td>\n",
              "      <td>187.408000</td>\n",
              "    </tr>\n",
              "    <tr>\n",
              "      <th>max</th>\n",
              "      <td>7.419777</td>\n",
              "      <td>3883.077071</td>\n",
              "      <td>0.023126</td>\n",
              "      <td>0.152073</td>\n",
              "      <td>173293.000000</td>\n",
              "      <td>83476.000000</td>\n",
              "      <td>140.091565</td>\n",
              "      <td>15.241643</td>\n",
              "      <td>2.586992</td>\n",
              "      <td>1.841509</td>\n",
              "      <td>...</td>\n",
              "      <td>29.664000</td>\n",
              "      <td>74.000000</td>\n",
              "      <td>34.246011</td>\n",
              "      <td>3.630060e+07</td>\n",
              "      <td>4.078587e+06</td>\n",
              "      <td>8.669162e+06</td>\n",
              "      <td>84091.877980</td>\n",
              "      <td>1.237179e+07</td>\n",
              "      <td>16.000000</td>\n",
              "      <td>792.346000</td>\n",
              "    </tr>\n",
              "  </tbody>\n",
              "</table>\n",
              "<p>8 rows × 154 columns</p>\n",
              "</div>"
            ],
            "text/plain": [
              "            ae_max      ae_kurt       ae_var       ae_rms       ae_c_0_1  \\\n",
              "count  2054.000000  2054.000000  2054.000000  2054.000000    2054.000000   \n",
              "mean      1.593842   196.060022     0.001680     0.036340   10129.466894   \n",
              "std       1.392936   324.158490     0.002246     0.018955   12856.011137   \n",
              "min       0.061356     2.805944     0.000010     0.003175       0.000000   \n",
              "25%       0.385372     5.342205     0.000608     0.024668    1991.000000   \n",
              "50%       1.202854    59.669365     0.000945     0.030743    5785.000000   \n",
              "75%       2.430667   266.484592     0.001927     0.043900   13970.500000   \n",
              "max       7.419777  3883.077071     0.023126     0.152073  173293.000000   \n",
              "\n",
              "          ae_c_0_15        ae_cf      ax1_rms       ax1_sk     ax1_mean  ...  \\\n",
              "count   2054.000000  2054.000000  2054.000000  2054.000000  2054.000000  ...   \n",
              "mean    4473.583739    38.981415     4.909105    -0.332877     0.000399  ...   \n",
              "std     6414.753370    24.174284     1.811544     0.244376     0.212287  ...   \n",
              "min        0.000000     4.518057     3.125334    -1.342878    -2.394990  ...   \n",
              "25%      135.000000    17.753909     4.021564    -0.497152    -0.011419  ...   \n",
              "50%     2290.000000    37.196993     4.180038    -0.445624     0.000179  ...   \n",
              "75%     6370.250000    55.132377     5.700836    -0.106531     0.011917  ...   \n",
              "max    83476.000000   140.091565    15.241643     2.586992     1.841509  ...   \n",
              "\n",
              "        cv3_z_mean    cv3_z_max   cv3_z_kurt     con_sv2_s     con_sv2_x  \\\n",
              "count  2054.000000  2054.000000  2054.000000  2.054000e+03  2.054000e+03   \n",
              "mean     13.281275    22.952288     2.309994  2.507890e+07  8.391343e+03   \n",
              "std       1.683646     2.806412     0.973607  4.677596e+06  1.473890e+05   \n",
              "min       9.796000    11.000000     1.961180  2.028914e+07  1.190804e+03   \n",
              "25%      12.344000    22.000000     2.214450  2.205876e+07  1.652915e+03   \n",
              "50%      12.946000    23.000000     2.270330  2.393700e+07  2.243462e+03   \n",
              "75%      13.651000    23.000000     2.320690  2.616818e+07  2.665118e+03   \n",
              "max      29.664000    74.000000    34.246011  3.630060e+07  4.078587e+06   \n",
              "\n",
              "          con_sv2_z   con_g_freal  con_a_sreal_s      tool_id           vb  \n",
              "count  2.054000e+03   2054.000000   2.054000e+03  2054.000000  2054.000000  \n",
              "mean   2.506295e+05   2472.108702   8.543784e+06     9.929893   151.103928  \n",
              "std    2.015819e+05   2302.228591   1.595050e+06     4.110736   116.604515  \n",
              "min    3.154739e+03      0.000000   6.906771e+06     3.000000     0.000000  \n",
              "25%    2.118221e+05   2050.792374   7.513811e+06     6.000000    74.774000  \n",
              "50%    2.339160e+05   2263.364164   8.154236e+06    10.000000   124.690000  \n",
              "75%    2.568052e+05   2480.497737   8.915363e+06    14.000000   187.408000  \n",
              "max    8.669162e+06  84091.877980   1.237179e+07    16.000000   792.346000  \n",
              "\n",
              "[8 rows x 154 columns]"
            ]
          },
          "metadata": {},
          "output_type": "display_data"
        }
      ],
      "source": [
        "if 'df' in globals():\n",
        "    display(df.describe())"
      ]
    },
    {
      "cell_type": "markdown",
      "metadata": {},
      "source": [
        "## Target distribution"
      ]
    },
    {
      "cell_type": "code",
      "execution_count": 11,
      "metadata": {},
      "outputs": [
        {
          "data": {
            "application/vnd.microsoft.datawrangler.viewer.v0+json": {
              "columns": [
                {
                  "name": "vb",
                  "rawType": "float64",
                  "type": "float"
                },
                {
                  "name": "count",
                  "rawType": "int64",
                  "type": "integer"
                }
              ],
              "ref": "205257cf-04b6-4e5c-a1da-713d67264387",
              "rows": [
                [
                  "71.0",
                  "116"
                ],
                [
                  "143.0",
                  "38"
                ],
                [
                  "92.0",
                  "35"
                ],
                [
                  "81.0",
                  "32"
                ],
                [
                  "0.0",
                  "10"
                ],
                [
                  "76.0",
                  "3"
                ],
                [
                  "217.0",
                  "3"
                ],
                [
                  "211.0",
                  "3"
                ],
                [
                  "105.103",
                  "3"
                ],
                [
                  "103.034",
                  "3"
                ],
                [
                  "112.0",
                  "3"
                ],
                [
                  "193.0",
                  "3"
                ],
                [
                  "107.172",
                  "3"
                ],
                [
                  "109.241",
                  "3"
                ],
                [
                  "111.31",
                  "3"
                ],
                [
                  "88.0",
                  "2"
                ],
                [
                  "104.069",
                  "2"
                ],
                [
                  "187.0",
                  "2"
                ],
                [
                  "117.0",
                  "2"
                ],
                [
                  "187.375",
                  "2"
                ],
                [
                  "122.333",
                  "2"
                ],
                [
                  "89.556",
                  "2"
                ],
                [
                  "241.0",
                  "2"
                ],
                [
                  "151.375",
                  "2"
                ],
                [
                  "135.375",
                  "2"
                ],
                [
                  "138.333",
                  "2"
                ],
                [
                  "106.138",
                  "2"
                ],
                [
                  "199.0",
                  "2"
                ],
                [
                  "94.222",
                  "2"
                ],
                [
                  "202.0",
                  "2"
                ],
                [
                  "157.0",
                  "2"
                ],
                [
                  "205.0",
                  "2"
                ],
                [
                  "108.207",
                  "2"
                ],
                [
                  "150.25",
                  "2"
                ],
                [
                  "163.0",
                  "2"
                ],
                [
                  "66.75",
                  "2"
                ],
                [
                  "110.276",
                  "2"
                ],
                [
                  "223.0",
                  "2"
                ],
                [
                  "102.345",
                  "2"
                ],
                [
                  "136.0",
                  "2"
                ],
                [
                  "103.724",
                  "2"
                ],
                [
                  "104.414",
                  "2"
                ],
                [
                  "154.5",
                  "2"
                ],
                [
                  "105.793",
                  "2"
                ],
                [
                  "106.483",
                  "2"
                ],
                [
                  "78.0",
                  "2"
                ],
                [
                  "178.0",
                  "2"
                ],
                [
                  "107.862",
                  "2"
                ],
                [
                  "132.0",
                  "2"
                ],
                [
                  "108.552",
                  "2"
                ]
              ],
              "shape": {
                "columns": 1,
                "rows": 1738
              }
            },
            "text/plain": [
              "vb\n",
              "71.000     116\n",
              "143.000     38\n",
              "92.000      35\n",
              "81.000      32\n",
              "0.000       10\n",
              "          ... \n",
              "188.625      1\n",
              "189.250      1\n",
              "189.875      1\n",
              "190.500      1\n",
              "54.310       1\n",
              "Name: count, Length: 1738, dtype: int64"
            ]
          },
          "metadata": {},
          "output_type": "display_data"
        }
      ],
      "source": [
        "if 'df' in globals():\n",
        "    display(df['vb'].value_counts())"
      ]
    },
    {
      "cell_type": "markdown",
      "metadata": {},
      "source": [
        "## Sensor histograms"
      ]
    },
    {
      "cell_type": "code",
      "execution_count": 12,
      "metadata": {},
      "outputs": [
        {
          "data": {
            "image/png": "[encoded data removed]",
            "text/plain": [
              "<Figure size 1000x600 with 4 Axes>"
            ]
          },
          "metadata": {},
          "output_type": "display_data"
        }
      ],
      "source": [
        "if 'df' in globals():\n",
        "    df[['ae_rms', 'ae_max', 'f_c_rms', 'f_c_max']].hist(figsize=(10,6))"
      ]
    },
    {
      "cell_type": "markdown",
      "metadata": {},
      "source": [
        "## Correlation heatmap"
      ]
    },
    {
      "cell_type": "code",
      "execution_count": 13,
      "metadata": {},
      "outputs": [
        {
          "data": {
            "image/png": "[encoded data removed]",
            "text/plain": [
              "<Figure size 800x600 with 2 Axes>"
            ]
          },
          "metadata": {},
          "output_type": "display_data"
        }
      ],
      "source": [
        "import seaborn as sns\n",
        "import matplotlib.pyplot as plt\n",
        "if 'df' in globals():\n",
        "    plt.figure(figsize=(8,6))\n",
        "    sns.heatmap(df.corr(numeric_only=True), annot=True, fmt='.2f')"
      ]
    },
    {
      "cell_type": "markdown",
      "metadata": {},
      "source": [
        "## Outlier detection"
      ]
    },
    {
      "cell_type": "code",
      "execution_count": 14,
      "metadata": {},
      "outputs": [
        {
          "data": {
            "application/vnd.microsoft.datawrangler.viewer.v0+json": {
              "columns": [
                {
                  "name": "index",
                  "rawType": "object",
                  "type": "string"
                },
                {
                  "name": "0",
                  "rawType": "int64",
                  "type": "integer"
                }
              ],
              "ref": "d83a5ab2-b014-4e5c-9dad-6992e7bdd76e",
              "rows": [
                [
                  "ae_max",
                  "18"
                ],
                [
                  "ae_kurt",
                  "44"
                ],
                [
                  "ae_var",
                  "38"
                ],
                [
                  "ae_rms",
                  "35"
                ],
                [
                  "ae_c_0_1",
                  "51"
                ],
                [
                  "ae_c_0_15",
                  "34"
                ],
                [
                  "ae_cf",
                  "7"
                ],
                [
                  "ax1_rms",
                  "57"
                ],
                [
                  "ax1_sk",
                  "24"
                ],
                [
                  "ax1_mean",
                  "52"
                ],
                [
                  "ax1_max",
                  "68"
                ],
                [
                  "ax1_kurt",
                  "12"
                ],
                [
                  "ax2_rms",
                  "23"
                ],
                [
                  "ax2_sk",
                  "24"
                ],
                [
                  "ax2_mean",
                  "73"
                ],
                [
                  "ax2_kurt",
                  "22"
                ],
                [
                  "ay1_rms",
                  "44"
                ],
                [
                  "ay1_sk",
                  "35"
                ],
                [
                  "ay1_mean",
                  "59"
                ],
                [
                  "ay1_max",
                  "55"
                ],
                [
                  "ay1_kurt",
                  "23"
                ],
                [
                  "ay2_rms",
                  "68"
                ],
                [
                  "ay2_sk",
                  "29"
                ],
                [
                  "ay2_mean",
                  "35"
                ],
                [
                  "ay2_max",
                  "60"
                ],
                [
                  "ay2_kurt",
                  "37"
                ],
                [
                  "az1_rms",
                  "37"
                ],
                [
                  "az1_sk",
                  "7"
                ],
                [
                  "az1_mean",
                  "29"
                ],
                [
                  "az1_max",
                  "1"
                ],
                [
                  "az1_kurt",
                  "2"
                ],
                [
                  "az2_rms",
                  "51"
                ],
                [
                  "az2_sk",
                  "33"
                ],
                [
                  "az2_mean",
                  "68"
                ],
                [
                  "az2_max",
                  "44"
                ],
                [
                  "az2_kurt",
                  "39"
                ],
                [
                  "f_p_rms",
                  "45"
                ],
                [
                  "f_p_sk",
                  "51"
                ],
                [
                  "f_p_mean",
                  "45"
                ],
                [
                  "f_p_max",
                  "42"
                ],
                [
                  "f_p_kurt",
                  "19"
                ],
                [
                  "f_f_rms",
                  "44"
                ],
                [
                  "f_f_sk",
                  "4"
                ],
                [
                  "f_f_mean",
                  "44"
                ],
                [
                  "f_f_max",
                  "43"
                ],
                [
                  "f_f_kurt",
                  "29"
                ],
                [
                  "f_c_rms",
                  "35"
                ],
                [
                  "f_c_sk",
                  "8"
                ],
                [
                  "f_c_mean",
                  "35"
                ],
                [
                  "f_c_max",
                  "24"
                ]
              ],
              "shape": {
                "columns": 1,
                "rows": 124
              }
            },
            "text/plain": [
              "ae_max         18\n",
              "ae_kurt        44\n",
              "ae_var         38\n",
              "ae_rms         35\n",
              "ae_c_0_1       51\n",
              "               ..\n",
              "cv3_z_kurt      6\n",
              "con_sv2_x       3\n",
              "con_sv2_z       2\n",
              "con_g_freal     5\n",
              "vb             50\n",
              "Length: 124, dtype: int64"
            ]
          },
          "metadata": {},
          "output_type": "display_data"
        }
      ],
      "source": [
        "if 'df' in globals():\n",
        "    numeric_cols = df.select_dtypes(include='number')\n",
        "    z_scores = (numeric_cols - numeric_cols.mean())/numeric_cols.std()\n",
        "    outlier_counts = (z_scores.abs() > 3).sum()\n",
        "    display(outlier_counts[outlier_counts > 0])"
      ]
    }
  ],
  "metadata": {
    "kernelspec": {
      "display_name": "Python 3",
      "language": "python",
      "name": "python3"
    },
    "language_info": {
      "name": "python",
      "version": "3.11"
    }
  },
  "nbformat": 4,
  "nbformat_minor": 2
}
